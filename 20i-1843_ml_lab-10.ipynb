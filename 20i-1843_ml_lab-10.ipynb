{
 "cells": [
  {
   "cell_type": "code",
   "execution_count": 1,
   "id": "086befda",
   "metadata": {},
   "outputs": [],
   "source": [
    "import numpy as np"
   ]
  },
  {
   "cell_type": "markdown",
   "id": "e05b5bf5",
   "metadata": {},
   "source": [
    "## Create a numpy array of int, characters, float and find their shapes"
   ]
  },
  {
   "cell_type": "code",
   "execution_count": 2,
   "id": "b4559967",
   "metadata": {},
   "outputs": [
    {
     "name": "stdout",
     "output_type": "stream",
     "text": [
      "(25,) Int array :-\n",
      " [72  4 80 57 43 48 82 34 80 67 23 22  6 26 19 86 65 99  6 44 91 11 99 99\n",
      " 41]\n",
      "(3, 4) \n",
      "Float array :-\n",
      " [[0.65052508 0.64065417 0.13401065 0.54429694]\n",
      " [0.03926076 0.68871796 0.60400332 0.77044336]\n",
      " [0.04402385 0.99216925 0.06622029 0.60263715]]\n",
      "(2, 6) \n",
      "Char array :-\n",
      " [[b'A' b'A' b'A' b'A' b'A' b'A']\n",
      " [b'Z' b'Z' b'Z' b'Z' b'Z' b'Z']]\n"
     ]
    }
   ],
   "source": [
    "intarr=np.random.randint(1,100,size=25)\n",
    "print(intarr.shape,'Int array :-\\n',intarr)\n",
    "\n",
    "floatarr=np.random.rand(3,4)\n",
    "print(floatarr.shape,'\\nFloat array :-\\n',floatarr)\n",
    "\n",
    "chararray=np.chararray((2,6))\n",
    "chararray[0:][0:1] = 'A'\n",
    "chararray[0:][1:] = 'Z'\n",
    "print(chararray.shape,'\\nChar array :-\\n',chararray)"
   ]
  },
  {
   "cell_type": "markdown",
   "id": "c5b79b57",
   "metadata": {},
   "source": [
    "## Create a zeros, empty, identity , eye and a full array"
   ]
  },
  {
   "cell_type": "code",
   "execution_count": 4,
   "id": "75458d30",
   "metadata": {},
   "outputs": [
    {
     "name": "stdout",
     "output_type": "stream",
     "text": [
      "empty array :- [[0. 0. 0. 0. 0. 0.]]\n",
      "\n",
      "Identity array :-\n",
      " [[1. 0. 0.]\n",
      " [0. 1. 0.]\n",
      " [0. 0. 1.]]\n",
      "\n",
      "Zeros array :-\n",
      " [[0. 0. 0.]\n",
      " [0. 0. 0.]\n",
      " [0. 0. 0.]]\n",
      "\n",
      "Eye array :-\n",
      " [[0. 0. 0. 0.]\n",
      " [1. 0. 0. 0.]\n",
      " [0. 1. 0. 0.]\n",
      " [0. 0. 1. 0.]]\n",
      "\n",
      "Full array :-\n",
      " [[5 5 5]\n",
      " [5 5 5]\n",
      " [5 5 5]\n",
      " [5 5 5]]\n"
     ]
    }
   ],
   "source": [
    "emptyarr=np.empty((1, 6))\n",
    "print('empty array :-',emptyarr)\n",
    "\n",
    "identityarr=np.identity(3)\n",
    "print('\\nIdentity array :-\\n',identityarr)\n",
    "\n",
    "zerosarr=np.zeros((3,3))\n",
    "print('\\nZeros array :-\\n',zerosarr)\n",
    "\n",
    "eyesarr=np.eye(4,4,k=-1)\n",
    "print('\\nEye array :-\\n',eyesarr)\n",
    "\n",
    "fullarr=np.full([4,3],fill_value=5)\n",
    "print('\\nFull array :-\\n',fullarr)"
   ]
  },
  {
   "cell_type": "markdown",
   "id": "70456762",
   "metadata": {},
   "source": [
    "## Declare an array having the datatype of object, is it possible?"
   ]
  },
  {
   "cell_type": "code",
   "execution_count": 5,
   "id": "eeb7653e",
   "metadata": {},
   "outputs": [
    {
     "data": {
      "text/plain": [
       "array(['Faizan', 20.9, 'Fast', 5, 'Semester'], dtype=object)"
      ]
     },
     "execution_count": 5,
     "metadata": {},
     "output_type": "execute_result"
    }
   ],
   "source": [
    "faizan=np.array(['Faizan',20.9,'Fast',5,'Semester'], dtype=object)\n",
    "faizan"
   ]
  },
  {
   "cell_type": "markdown",
   "id": "4dda2d3f",
   "metadata": {},
   "source": [
    "## Create an array having 5 equally spaced numbers ranging from 5 to 15"
   ]
  },
  {
   "cell_type": "code",
   "execution_count": 7,
   "id": "641b874e",
   "metadata": {},
   "outputs": [
    {
     "data": {
      "text/plain": [
       "array([ 5.  ,  7.75, 10.5 , 13.25, 16.  ])"
      ]
     },
     "execution_count": 7,
     "metadata": {},
     "output_type": "execute_result"
    }
   ],
   "source": [
    "equal_space=np.linspace(5,16,5)\n",
    "equal_space"
   ]
  },
  {
   "cell_type": "markdown",
   "id": "64791057",
   "metadata": {},
   "source": [
    "## Create a numpy array ranging from 1 to 100."
   ]
  },
  {
   "cell_type": "code",
   "execution_count": 9,
   "id": "d1d8b93b",
   "metadata": {},
   "outputs": [
    {
     "data": {
      "text/plain": [
       "array([  1,   2,   3,   4,   5,   6,   7,   8,   9,  10,  11,  12,  13,\n",
       "        14,  15,  16,  17,  18,  19,  20,  21,  22,  23,  24,  25,  26,\n",
       "        27,  28,  29,  30,  31,  32,  33,  34,  35,  36,  37,  38,  39,\n",
       "        40,  41,  42,  43,  44,  45,  46,  47,  48,  49,  50,  51,  52,\n",
       "        53,  54,  55,  56,  57,  58,  59,  60,  61,  62,  63,  64,  65,\n",
       "        66,  67,  68,  69,  70,  71,  72,  73,  74,  75,  76,  77,  78,\n",
       "        79,  80,  81,  82,  83,  84,  85,  86,  87,  88,  89,  90,  91,\n",
       "        92,  93,  94,  95,  96,  97,  98,  99, 100])"
      ]
     },
     "execution_count": 9,
     "metadata": {},
     "output_type": "execute_result"
    }
   ],
   "source": [
    "onetohundred=np.arange(1,101)\n",
    "onetohundred"
   ]
  },
  {
   "cell_type": "markdown",
   "id": "537ed80b",
   "metadata": {},
   "source": [
    "## Reshape the above array into (100,15). Is it possible?"
   ]
  },
  {
   "cell_type": "code",
   "execution_count": 10,
   "id": "57f71521",
   "metadata": {},
   "outputs": [
    {
     "name": "stdout",
     "output_type": "stream",
     "text": [
      "100,15 of above array is not possible however 20,5 and such that 5,20 is possible.\n"
     ]
    }
   ],
   "source": [
    "print('100,15 of above array is not possible however 20,5 and such that 5,20 is possible.')"
   ]
  },
  {
   "cell_type": "markdown",
   "id": "90400328",
   "metadata": {},
   "source": [
    "## Reshape the array into (100,10)."
   ]
  },
  {
   "cell_type": "code",
   "execution_count": 13,
   "id": "e08300d0",
   "metadata": {
    "collapsed": true
   },
   "outputs": [
    {
     "data": {
      "text/plain": [
       "array([[   1,    3,    5,    7,    9,   11,   13,   15,   17,   19],\n",
       "       [  21,   23,   25,   27,   29,   31,   33,   35,   37,   39],\n",
       "       [  41,   43,   45,   47,   49,   51,   53,   55,   57,   59],\n",
       "       [  61,   63,   65,   67,   69,   71,   73,   75,   77,   79],\n",
       "       [  81,   83,   85,   87,   89,   91,   93,   95,   97,   99],\n",
       "       [ 101,  103,  105,  107,  109,  111,  113,  115,  117,  119],\n",
       "       [ 121,  123,  125,  127,  129,  131,  133,  135,  137,  139],\n",
       "       [ 141,  143,  145,  147,  149,  151,  153,  155,  157,  159],\n",
       "       [ 161,  163,  165,  167,  169,  171,  173,  175,  177,  179],\n",
       "       [ 181,  183,  185,  187,  189,  191,  193,  195,  197,  199],\n",
       "       [ 201,  203,  205,  207,  209,  211,  213,  215,  217,  219],\n",
       "       [ 221,  223,  225,  227,  229,  231,  233,  235,  237,  239],\n",
       "       [ 241,  243,  245,  247,  249,  251,  253,  255,  257,  259],\n",
       "       [ 261,  263,  265,  267,  269,  271,  273,  275,  277,  279],\n",
       "       [ 281,  283,  285,  287,  289,  291,  293,  295,  297,  299],\n",
       "       [ 301,  303,  305,  307,  309,  311,  313,  315,  317,  319],\n",
       "       [ 321,  323,  325,  327,  329,  331,  333,  335,  337,  339],\n",
       "       [ 341,  343,  345,  347,  349,  351,  353,  355,  357,  359],\n",
       "       [ 361,  363,  365,  367,  369,  371,  373,  375,  377,  379],\n",
       "       [ 381,  383,  385,  387,  389,  391,  393,  395,  397,  399],\n",
       "       [ 401,  403,  405,  407,  409,  411,  413,  415,  417,  419],\n",
       "       [ 421,  423,  425,  427,  429,  431,  433,  435,  437,  439],\n",
       "       [ 441,  443,  445,  447,  449,  451,  453,  455,  457,  459],\n",
       "       [ 461,  463,  465,  467,  469,  471,  473,  475,  477,  479],\n",
       "       [ 481,  483,  485,  487,  489,  491,  493,  495,  497,  499],\n",
       "       [ 501,  503,  505,  507,  509,  511,  513,  515,  517,  519],\n",
       "       [ 521,  523,  525,  527,  529,  531,  533,  535,  537,  539],\n",
       "       [ 541,  543,  545,  547,  549,  551,  553,  555,  557,  559],\n",
       "       [ 561,  563,  565,  567,  569,  571,  573,  575,  577,  579],\n",
       "       [ 581,  583,  585,  587,  589,  591,  593,  595,  597,  599],\n",
       "       [ 601,  603,  605,  607,  609,  611,  613,  615,  617,  619],\n",
       "       [ 621,  623,  625,  627,  629,  631,  633,  635,  637,  639],\n",
       "       [ 641,  643,  645,  647,  649,  651,  653,  655,  657,  659],\n",
       "       [ 661,  663,  665,  667,  669,  671,  673,  675,  677,  679],\n",
       "       [ 681,  683,  685,  687,  689,  691,  693,  695,  697,  699],\n",
       "       [ 701,  703,  705,  707,  709,  711,  713,  715,  717,  719],\n",
       "       [ 721,  723,  725,  727,  729,  731,  733,  735,  737,  739],\n",
       "       [ 741,  743,  745,  747,  749,  751,  753,  755,  757,  759],\n",
       "       [ 761,  763,  765,  767,  769,  771,  773,  775,  777,  779],\n",
       "       [ 781,  783,  785,  787,  789,  791,  793,  795,  797,  799],\n",
       "       [ 801,  803,  805,  807,  809,  811,  813,  815,  817,  819],\n",
       "       [ 821,  823,  825,  827,  829,  831,  833,  835,  837,  839],\n",
       "       [ 841,  843,  845,  847,  849,  851,  853,  855,  857,  859],\n",
       "       [ 861,  863,  865,  867,  869,  871,  873,  875,  877,  879],\n",
       "       [ 881,  883,  885,  887,  889,  891,  893,  895,  897,  899],\n",
       "       [ 901,  903,  905,  907,  909,  911,  913,  915,  917,  919],\n",
       "       [ 921,  923,  925,  927,  929,  931,  933,  935,  937,  939],\n",
       "       [ 941,  943,  945,  947,  949,  951,  953,  955,  957,  959],\n",
       "       [ 961,  963,  965,  967,  969,  971,  973,  975,  977,  979],\n",
       "       [ 981,  983,  985,  987,  989,  991,  993,  995,  997,  999],\n",
       "       [1001, 1003, 1005, 1007, 1009, 1011, 1013, 1015, 1017, 1019],\n",
       "       [1021, 1023, 1025, 1027, 1029, 1031, 1033, 1035, 1037, 1039],\n",
       "       [1041, 1043, 1045, 1047, 1049, 1051, 1053, 1055, 1057, 1059],\n",
       "       [1061, 1063, 1065, 1067, 1069, 1071, 1073, 1075, 1077, 1079],\n",
       "       [1081, 1083, 1085, 1087, 1089, 1091, 1093, 1095, 1097, 1099],\n",
       "       [1101, 1103, 1105, 1107, 1109, 1111, 1113, 1115, 1117, 1119],\n",
       "       [1121, 1123, 1125, 1127, 1129, 1131, 1133, 1135, 1137, 1139],\n",
       "       [1141, 1143, 1145, 1147, 1149, 1151, 1153, 1155, 1157, 1159],\n",
       "       [1161, 1163, 1165, 1167, 1169, 1171, 1173, 1175, 1177, 1179],\n",
       "       [1181, 1183, 1185, 1187, 1189, 1191, 1193, 1195, 1197, 1199],\n",
       "       [1201, 1203, 1205, 1207, 1209, 1211, 1213, 1215, 1217, 1219],\n",
       "       [1221, 1223, 1225, 1227, 1229, 1231, 1233, 1235, 1237, 1239],\n",
       "       [1241, 1243, 1245, 1247, 1249, 1251, 1253, 1255, 1257, 1259],\n",
       "       [1261, 1263, 1265, 1267, 1269, 1271, 1273, 1275, 1277, 1279],\n",
       "       [1281, 1283, 1285, 1287, 1289, 1291, 1293, 1295, 1297, 1299],\n",
       "       [1301, 1303, 1305, 1307, 1309, 1311, 1313, 1315, 1317, 1319],\n",
       "       [1321, 1323, 1325, 1327, 1329, 1331, 1333, 1335, 1337, 1339],\n",
       "       [1341, 1343, 1345, 1347, 1349, 1351, 1353, 1355, 1357, 1359],\n",
       "       [1361, 1363, 1365, 1367, 1369, 1371, 1373, 1375, 1377, 1379],\n",
       "       [1381, 1383, 1385, 1387, 1389, 1391, 1393, 1395, 1397, 1399],\n",
       "       [1401, 1403, 1405, 1407, 1409, 1411, 1413, 1415, 1417, 1419],\n",
       "       [1421, 1423, 1425, 1427, 1429, 1431, 1433, 1435, 1437, 1439],\n",
       "       [1441, 1443, 1445, 1447, 1449, 1451, 1453, 1455, 1457, 1459],\n",
       "       [1461, 1463, 1465, 1467, 1469, 1471, 1473, 1475, 1477, 1479],\n",
       "       [1481, 1483, 1485, 1487, 1489, 1491, 1493, 1495, 1497, 1499],\n",
       "       [1501, 1503, 1505, 1507, 1509, 1511, 1513, 1515, 1517, 1519],\n",
       "       [1521, 1523, 1525, 1527, 1529, 1531, 1533, 1535, 1537, 1539],\n",
       "       [1541, 1543, 1545, 1547, 1549, 1551, 1553, 1555, 1557, 1559],\n",
       "       [1561, 1563, 1565, 1567, 1569, 1571, 1573, 1575, 1577, 1579],\n",
       "       [1581, 1583, 1585, 1587, 1589, 1591, 1593, 1595, 1597, 1599],\n",
       "       [1601, 1603, 1605, 1607, 1609, 1611, 1613, 1615, 1617, 1619],\n",
       "       [1621, 1623, 1625, 1627, 1629, 1631, 1633, 1635, 1637, 1639],\n",
       "       [1641, 1643, 1645, 1647, 1649, 1651, 1653, 1655, 1657, 1659],\n",
       "       [1661, 1663, 1665, 1667, 1669, 1671, 1673, 1675, 1677, 1679],\n",
       "       [1681, 1683, 1685, 1687, 1689, 1691, 1693, 1695, 1697, 1699],\n",
       "       [1701, 1703, 1705, 1707, 1709, 1711, 1713, 1715, 1717, 1719],\n",
       "       [1721, 1723, 1725, 1727, 1729, 1731, 1733, 1735, 1737, 1739],\n",
       "       [1741, 1743, 1745, 1747, 1749, 1751, 1753, 1755, 1757, 1759],\n",
       "       [1761, 1763, 1765, 1767, 1769, 1771, 1773, 1775, 1777, 1779],\n",
       "       [1781, 1783, 1785, 1787, 1789, 1791, 1793, 1795, 1797, 1799],\n",
       "       [1801, 1803, 1805, 1807, 1809, 1811, 1813, 1815, 1817, 1819],\n",
       "       [1821, 1823, 1825, 1827, 1829, 1831, 1833, 1835, 1837, 1839],\n",
       "       [1841, 1843, 1845, 1847, 1849, 1851, 1853, 1855, 1857, 1859],\n",
       "       [1861, 1863, 1865, 1867, 1869, 1871, 1873, 1875, 1877, 1879],\n",
       "       [1881, 1883, 1885, 1887, 1889, 1891, 1893, 1895, 1897, 1899],\n",
       "       [1901, 1903, 1905, 1907, 1909, 1911, 1913, 1915, 1917, 1919],\n",
       "       [1921, 1923, 1925, 1927, 1929, 1931, 1933, 1935, 1937, 1939],\n",
       "       [1941, 1943, 1945, 1947, 1949, 1951, 1953, 1955, 1957, 1959],\n",
       "       [1961, 1963, 1965, 1967, 1969, 1971, 1973, 1975, 1977, 1979],\n",
       "       [1981, 1983, 1985, 1987, 1989, 1991, 1993, 1995, 1997, 1999]])"
      ]
     },
     "execution_count": 13,
     "metadata": {},
     "output_type": "execute_result"
    }
   ],
   "source": [
    "hundtoten=np.arange(1,2001,2)\n",
    "hundtoten=hundtoten.reshape(100,10)\n",
    "hundtoten"
   ]
  },
  {
   "cell_type": "markdown",
   "id": "5ebda61e",
   "metadata": {},
   "source": [
    "## Flatten and ravel the reshaped array. What is the difference?"
   ]
  },
  {
   "cell_type": "code",
   "execution_count": 17,
   "id": "440aed55",
   "metadata": {},
   "outputs": [
    {
     "name": "stdout",
     "output_type": "stream",
     "text": [
      "Flatten : If you modify modify any value of this array value of the original array is not affected\n",
      "Ravel : If you modify the array you would notice that the value of the original array also changes.\n"
     ]
    }
   ],
   "source": [
    "print('Flatten : If you modify modify any value of this array value of the original array is not affected')\n",
    "print('Ravel : If you modify the array you would notice that the value of the original array also changes.')"
   ]
  },
  {
   "cell_type": "markdown",
   "id": "347a2b18",
   "metadata": {},
   "source": [
    "## Take an array [[1 2 3] [4 5 6] [ 7 8 9]]. Sum it along 0 and 1 axis"
   ]
  },
  {
   "cell_type": "code",
   "execution_count": 55,
   "id": "b6a2fbc1",
   "metadata": {},
   "outputs": [
    {
     "name": "stdout",
     "output_type": "stream",
     "text": [
      "[[1 2 3]\n",
      " [4 5 6]\n",
      " [7 8 9]]\n",
      "\n",
      "sum of above array along 0 axis :-\n",
      " [12 15 18]\n",
      "sum of above array along 1 axis :-\n",
      " [ 6 15 24]\n"
     ]
    }
   ],
   "source": [
    "a=np.array([[1,2,3],[4,5,6],[ 7,8,9]])\n",
    "print(a)\n",
    "\n",
    "b=np.sum(a,axis=0)\n",
    "print('\\nsum of above array along 0 axis :-\\n',b)\n",
    "\n",
    "c=np.sum(a,axis=1)\n",
    "print('sum of above array along 1 axis :-\\n',c)"
   ]
  },
  {
   "cell_type": "markdown",
   "id": "11a3e828",
   "metadata": {},
   "source": [
    "## Find the number of bytes used by your array"
   ]
  },
  {
   "cell_type": "code",
   "execution_count": 34,
   "id": "ec6b5d79",
   "metadata": {},
   "outputs": [
    {
     "name": "stdout",
     "output_type": "stream",
     "text": [
      "\n",
      " Bytes in 32: 12\n",
      "\n",
      " Bytes in 16 : 6\n",
      "\n",
      " Bytes in 64 : 24\n"
     ]
    }
   ],
   "source": [
    "array = np.array([1,3,5])\n",
    " \n",
    "# Total bytes consumed by the elements  of the array\n",
    "print('\\n Bytes in 32:',array.nbytes)\n",
    "################################################\n",
    "\n",
    "array = np.array([1,3,5], dtype=np.float16)\n",
    "# Total bytes consumed by the elements of the array\n",
    "print('\\n Bytes in 16 :',array.nbytes)\n",
    "\n",
    "################################################\n",
    "\n",
    "array = np.array([1,3,5], dtype=np.float64)\n",
    "# Total bytes consumed by the elements of the array\n",
    "print('\\n Bytes in 64 :',array.nbytes)\n"
   ]
  },
  {
   "cell_type": "markdown",
   "id": "195f1aa0",
   "metadata": {},
   "source": [
    "## Find the maximum and minimum values in a 1D array."
   ]
  },
  {
   "cell_type": "code",
   "execution_count": 35,
   "id": "e8409b0d",
   "metadata": {},
   "outputs": [
    {
     "name": "stdout",
     "output_type": "stream",
     "text": [
      "max : 94 \n",
      "min : 3\n"
     ]
    }
   ],
   "source": [
    "a=np.random.randint(1,100,size=25)\n",
    "print('max :',a.max(),'\\nmin :',a.min())"
   ]
  },
  {
   "cell_type": "markdown",
   "id": "f7e19717",
   "metadata": {},
   "source": [
    "## Find the maximum and minimum values in 2D array"
   ]
  },
  {
   "cell_type": "code",
   "execution_count": 65,
   "id": "68f6e441",
   "metadata": {},
   "outputs": [
    {
     "name": "stdout",
     "output_type": "stream",
     "text": [
      "[[54 61 38 58 35 50 65]\n",
      " [85 94 23 93 69 16 34]\n",
      " [ 8 30 83 56 52 46 91]\n",
      " [ 6 68 74 60 10 33 77]]\n",
      "\n",
      "max along columns: [85 94 83 93 69 50 91] \n",
      "min along columns: [ 6 30 23 56 10 16 34]\n",
      "\n",
      "max along rows: [65 94 91 77] \n",
      "min along rows: [35 16  8  6]\n"
     ]
    }
   ],
   "source": [
    "a=np.random.randint(1,100,size=(4,7))\n",
    "print(a)\n",
    "print('\\nmax along columns:',np.amax(a,axis=0),'\\nmin along columns:',np.amin(a,axis=0))\n",
    "print('\\nmax along rows:',np.amax(a,axis=1),'\\nmin along rows:',np.amin(a,axis=1))"
   ]
  },
  {
   "cell_type": "markdown",
   "id": "964a80e9",
   "metadata": {},
   "source": [
    "## Sort an array"
   ]
  },
  {
   "cell_type": "code",
   "execution_count": 54,
   "id": "93418d36",
   "metadata": {},
   "outputs": [
    {
     "name": "stdout",
     "output_type": "stream",
     "text": [
      "[[39 29 48 11]\n",
      " [66 37 78 91]\n",
      " [72 10 18 12]\n",
      " [65 34 33 53]]\n",
      "\n",
      "2d array sort along row:-\n",
      " [[11 29 39 48]\n",
      " [37 66 78 91]\n",
      " [10 12 18 72]\n",
      " [33 34 53 65]]\n",
      "\n",
      "2d array sort along column:-\n",
      " [[10 12 18 48]\n",
      " [11 29 39 65]\n",
      " [33 34 53 72]\n",
      " [37 66 78 91]]\n"
     ]
    }
   ],
   "source": [
    "a=np.random.randint(1,100,size=(4,4))\n",
    "print(a)\n",
    "b=a\n",
    "c=a\n",
    "b.sort(1)\n",
    "print('\\n2d array sort along row:-\\n',b)\n",
    "\n",
    "c.sort(0)\n",
    "print('\\n2d array sort along column:-\\n',c)"
   ]
  },
  {
   "cell_type": "markdown",
   "id": "2bbeda37",
   "metadata": {},
   "source": [
    "## Is * and mul the same as dot product for numpy arrays and matrices? Check."
   ]
  },
  {
   "cell_type": "code",
   "execution_count": 73,
   "id": "cd22bf4c",
   "metadata": {},
   "outputs": [
    {
     "name": "stdout",
     "output_type": "stream",
     "text": [
      "[[9 5 1]\n",
      " [4 9 8]\n",
      " [9 4 3]] \n",
      "\n",
      " [[1 7 7]\n",
      " [6 7 3]\n",
      " [9 4 8]]\n",
      "\n",
      "Multiply :-\n",
      " [[ 9 35  7]\n",
      " [24 63 24]\n",
      " [81 16 24]]\n",
      "\n",
      "Multiply :-\n",
      " [[ 48 102  86]\n",
      " [130 123 119]\n",
      " [ 60 103  99]]\n",
      "np.dot and * multiplication is different np.dot is matrix multiplication while in * corresponding enteries are multiplied\n"
     ]
    }
   ],
   "source": [
    "a=np.random.randint(1,10,size=(3,3))\n",
    "b=np.random.randint(1,10,size=(3,3))\n",
    "print(a,'\\n\\n',b)\n",
    "c=a*b\n",
    "print('\\nMultiply :-\\n',c)\n",
    "d=np.dot(a, b)\n",
    "print('\\nMultiply :-\\n',d)\n",
    "print('np.dot and * multiplication is different np.dot is matrix multiplication while in * corresponding enteries are multiplied')"
   ]
  },
  {
   "cell_type": "markdown",
   "id": "da2701b0",
   "metadata": {},
   "source": [
    "## Take the square root and norm of an array"
   ]
  },
  {
   "cell_type": "code",
   "execution_count": 83,
   "id": "fcac98e1",
   "metadata": {},
   "outputs": [
    {
     "name": "stdout",
     "output_type": "stream",
     "text": [
      "[ 1.  2.  5.  3.  4.  6.  9.  7.  0. 12.  0.]\n"
     ]
    },
    {
     "data": {
      "text/plain": [
       "178.80995498014084"
      ]
     },
     "execution_count": 83,
     "metadata": {},
     "output_type": "execute_result"
    }
   ],
   "source": [
    "a=[1,4,25,9,16,36,81,49,144]\n",
    "b=np.sqrt(a)\n",
    "print(b)\n",
    "c=np.linalg.norm(a)\n",
    "c"
   ]
  },
  {
   "cell_type": "markdown",
   "id": "b2f02254",
   "metadata": {},
   "source": [
    "## Find the std, non-zero, zero values and mean of an array"
   ]
  },
  {
   "cell_type": "code",
   "execution_count": 88,
   "id": "658c6c68",
   "metadata": {},
   "outputs": [
    {
     "name": "stdout",
     "output_type": "stream",
     "text": [
      "STD : 17.012704040376182\n",
      "Mean : 15.11111111111111\n",
      "Zeros : [0 0 0]\n",
      "Non-zeros : [ 1 25  9 16 36 49]\n"
     ]
    }
   ],
   "source": [
    "a=np.array([1,0,25,9,16,36,0,49,0])\n",
    "print('STD :',np.std(a))\n",
    "print('Mean :',np.mean(a))\n",
    "print('Zeros :',a[a==0])\n",
    "print('Non-zeros :',a[a!=0])"
   ]
  },
  {
   "cell_type": "markdown",
   "id": "3cdae857",
   "metadata": {},
   "source": [
    "## Convert some angles to radians and vice versa"
   ]
  },
  {
   "cell_type": "code",
   "execution_count": 92,
   "id": "4f0be48c",
   "metadata": {},
   "outputs": [
    {
     "name": "stdout",
     "output_type": "stream",
     "text": [
      "angles : [330.22844196  87.02822993 230.52536535  21.70347626 100.40385817\n",
      "  74.64145521 172.71560637 317.28448758  68.23163215 319.53809874\n",
      " 173.98735669  86.63885816]\n",
      "\n",
      "radians : [5.7635736  1.51892915 4.02342663 0.37879712 1.75237791 1.30273915\n",
      " 3.014456   5.53765897 1.19086664 5.57699191 3.03665223 1.51213334]\n",
      "\n",
      "degrees : [330.22844196  87.02822993 230.52536535  21.70347626 100.40385817\n",
      "  74.64145521 172.71560637 317.28448758  68.23163215 319.53809874\n",
      " 173.98735669  86.63885816]\n"
     ]
    }
   ],
   "source": [
    "angles1=np.random.uniform(0,361,12)\n",
    "print('angles :',angles)\n",
    "rad=np.radians(angles)\n",
    "angles2=np.degrees(rad)\n",
    "print('\\nradians :',rad)\n",
    "print('\\ndegrees :',angles2)"
   ]
  },
  {
   "cell_type": "markdown",
   "id": "1bf00a0b",
   "metadata": {},
   "source": [
    "## Save and load some of your arrays"
   ]
  },
  {
   "cell_type": "code",
   "execution_count": 94,
   "id": "e6e98130",
   "metadata": {},
   "outputs": [
    {
     "name": "stdout",
     "output_type": "stream",
     "text": [
      "[5 5 9 6 7 7 9 9 6 7]\n"
     ]
    }
   ],
   "source": [
    "arr=np.random.randint(1,10,size=10)\n",
    "print(arr)\n",
    "np.save('numpy_arr',arr)"
   ]
  },
  {
   "cell_type": "code",
   "execution_count": 95,
   "id": "c3f3a86d",
   "metadata": {},
   "outputs": [
    {
     "data": {
      "text/plain": [
       "array([5, 5, 9, 6, 7, 7, 9, 9, 6, 7])"
      ]
     },
     "execution_count": 95,
     "metadata": {},
     "output_type": "execute_result"
    }
   ],
   "source": [
    "np.load('numpy_arr.npy')"
   ]
  },
  {
   "cell_type": "markdown",
   "id": "1a15c064",
   "metadata": {},
   "source": [
    "## Calculate the mean, std, var, max, min, of an array with shape (3,3,12,3) containing floats drawn  from a normal distribution with mean 21 and sigma 4.5. see the np.random.normal"
   ]
  },
  {
   "cell_type": "code",
   "execution_count": 111,
   "id": "e4927180",
   "metadata": {},
   "outputs": [
    {
     "data": {
      "text/plain": [
       "array([[[[18.02045352, 11.44961565, 20.12981983],\n",
       "         [24.59918595, 16.81471839, 26.85932635],\n",
       "         [19.67700877, 18.48450538, 21.14273221],\n",
       "         [22.04427159, 19.22831712, 22.25882977],\n",
       "         [28.30634948, 13.8407591 , 26.59220114],\n",
       "         [23.34973426, 24.65067954, 17.52389096],\n",
       "         [26.58511057, 29.96509671, 17.76080114],\n",
       "         [20.66708231, 23.63614892, 21.54836732],\n",
       "         [24.57566792, 19.31469885, 23.47989557],\n",
       "         [21.8639483 , 13.70416343, 13.81814281],\n",
       "         [17.45100941, 25.76241028, 14.33868012],\n",
       "         [19.550893  , 18.86648268, 18.50462242]],\n",
       "\n",
       "        [[20.33739665, 24.3572525 , 21.08337399],\n",
       "         [25.69391426, 24.69699048, 17.97786484],\n",
       "         [18.74441304, 18.38181871, 21.80615362],\n",
       "         [10.45020934, 20.04244427, 19.91183062],\n",
       "         [14.79927564, 19.95106455, 17.76242436],\n",
       "         [24.60247949, 15.79984356, 20.41105031],\n",
       "         [15.90620035, 19.6590153 , 22.46415607],\n",
       "         [19.76058278, 26.65217481, 24.73779619],\n",
       "         [29.372632  , 21.47938893, 21.44920785],\n",
       "         [21.3425681 , 19.97599836, 10.344326  ],\n",
       "         [14.11777353, 19.22592714, 17.8102392 ],\n",
       "         [13.30665189, 34.75947592, 23.0997827 ]],\n",
       "\n",
       "        [[16.73801848, 31.33599261, 25.62463665],\n",
       "         [24.39867111, 15.98044109, 22.6298695 ],\n",
       "         [17.28607276, 15.29062084, 32.87941747],\n",
       "         [20.72132812, 12.80755251, 14.55073984],\n",
       "         [21.84423276, 23.85155855, 16.08216131],\n",
       "         [28.7653052 , 17.72108413, 23.71918918],\n",
       "         [22.67098269, 27.93274363, 20.19833241],\n",
       "         [20.27426634, 18.50583259, 24.82601367],\n",
       "         [22.12986739, 19.47847318, 20.73618909],\n",
       "         [18.63807893, 21.60537111, 22.56458131],\n",
       "         [24.83024329, 12.20149823, 22.98570944],\n",
       "         [16.82245978, 28.60188506, 17.88591283]]],\n",
       "\n",
       "\n",
       "       [[[26.47383781, 15.5851299 , 16.74636108],\n",
       "         [26.05879519, 18.61979095, 24.50613154],\n",
       "         [15.03231926, 18.57735486, 18.00041609],\n",
       "         [22.2501117 , 21.81237881,  5.02234579],\n",
       "         [23.32252225, 10.19589564, 22.89073099],\n",
       "         [19.45163603, 20.42289232, 20.71785346],\n",
       "         [16.23784144, 22.76719756, 21.27425501],\n",
       "         [27.32791982, 18.72757554, 24.52938907],\n",
       "         [24.54176455, 24.2612603 , 19.85735797],\n",
       "         [16.29639488, 25.2998045 , 17.31270988],\n",
       "         [25.9648665 , 15.19819434, 16.91258332],\n",
       "         [26.4904198 , 27.06800975, 20.3788262 ]],\n",
       "\n",
       "        [[24.00475101, 15.49624811, 26.89703148],\n",
       "         [26.04052591, 20.9113048 , 23.29737371],\n",
       "         [16.57402912, 12.48822105, 22.03302326],\n",
       "         [19.7219541 , 21.78353818, 23.45872764],\n",
       "         [24.25621718, 26.50158386, 17.77151943],\n",
       "         [11.40041556, 21.66687732, 15.93775056],\n",
       "         [19.02518132, 15.79248171, 10.68325566],\n",
       "         [26.46843936, 21.64960462, 19.37161136],\n",
       "         [19.87257258, 14.37058816, 29.60670066],\n",
       "         [29.0363752 , 19.2940393 , 15.50430658],\n",
       "         [23.49409884, 21.4676726 , 17.06914924],\n",
       "         [23.17425181, 19.8876764 , 27.98028968]],\n",
       "\n",
       "        [[21.03595828, 28.28930785, 18.67860914],\n",
       "         [19.01720837, 22.82528009, 22.59394161],\n",
       "         [20.4692747 , 17.17870882, 22.70173494],\n",
       "         [19.6639862 , 23.80253268, 22.73260875],\n",
       "         [18.64108414, 24.85658939, 21.42851507],\n",
       "         [26.71419693, 20.36594109, 19.81620246],\n",
       "         [32.14417895, 25.83399713, 27.46975679],\n",
       "         [15.11144319, 19.18916532, 21.26481716],\n",
       "         [21.10075225, 26.83366772, 18.85693771],\n",
       "         [24.66605719, 14.81286181, 27.91693033],\n",
       "         [19.32688263, 28.36169258, 18.23871419],\n",
       "         [27.71613747, 21.85132139, 18.34581046]]],\n",
       "\n",
       "\n",
       "       [[[17.30692394, 19.19307164, 19.04403633],\n",
       "         [19.40417143, 32.37378385, 18.57269511],\n",
       "         [22.40130745, 32.33941012, 27.52961202],\n",
       "         [28.34588957, 20.71102444, 21.14806308],\n",
       "         [10.51558272, 11.13939696, 22.4992441 ],\n",
       "         [19.63750085, 25.06368525, 24.87015794],\n",
       "         [20.99346723, 16.69112299, 29.66182359],\n",
       "         [15.89641546, 23.64843667, 18.05200102],\n",
       "         [24.79809143, 19.33106401, 22.90363998],\n",
       "         [18.85946289, 17.10004287, 27.16048588],\n",
       "         [19.70046112, 12.74653301, 20.92459981],\n",
       "         [14.23085244, 26.132045  , 24.43726493]],\n",
       "\n",
       "        [[22.3063325 , 16.36820836, 20.52315961],\n",
       "         [19.11580961, 29.34093555, 26.91231727],\n",
       "         [26.0166196 , 17.79824239, 18.75303909],\n",
       "         [20.79119603, 10.57198619, 21.97227296],\n",
       "         [17.08804734, 25.12217361, 18.15970131],\n",
       "         [17.89156185, 23.17336972, 20.42039343],\n",
       "         [19.02926478, 25.58140079, 27.71596993],\n",
       "         [19.0688851 , 22.3521467 , 22.94618331],\n",
       "         [17.94105469, 15.95280543, 14.96598498],\n",
       "         [16.81308447, 23.06279344, 17.5054543 ],\n",
       "         [19.91889702, 17.50391159, 18.3684149 ],\n",
       "         [18.60733483, 13.11101176, 28.01348051]],\n",
       "\n",
       "        [[21.29582627, 18.97448876, 21.01265222],\n",
       "         [21.27292803, 15.32584931, 15.33254559],\n",
       "         [26.00741461, 20.55555534, 21.79774257],\n",
       "         [21.77241057, 17.88628998, 16.52457629],\n",
       "         [24.24237076, 22.82322167, 16.35451057],\n",
       "         [26.73999461, 23.88334243, 30.31239912],\n",
       "         [27.79727849, 14.87312264, 24.16250615],\n",
       "         [23.18964672, 20.57328409, 23.02866553],\n",
       "         [23.24936211, 16.83570762, 24.60861834],\n",
       "         [22.29131886, 22.7016384 , 16.78802665],\n",
       "         [27.34336976, 12.24122635, 22.05794722],\n",
       "         [31.02120911, 21.0323481 , 20.53056164]]]])"
      ]
     },
     "execution_count": 111,
     "metadata": {},
     "output_type": "execute_result"
    }
   ],
   "source": [
    "arr=np.random.normal(21,4.5,[3,3,12,3])\n",
    "arr"
   ]
  },
  {
   "cell_type": "code",
   "execution_count": 112,
   "id": "d5d0adb2",
   "metadata": {},
   "outputs": [
    {
     "name": "stdout",
     "output_type": "stream",
     "text": [
      "Mean :  20.976285450447673\n",
      "Std :  4.66973905292056\n",
      "Variance :  21.806462822371408\n",
      "Max :  34.759475916720774\n",
      "Min :  5.02234578593186\n"
     ]
    }
   ],
   "source": [
    "print('Mean : ',np.mean(arr))\n",
    "print('Std : ',np.std(arr))\n",
    "print('Variance : ',np.var(arr))\n",
    "print('Max : ',np.max(arr))\n",
    "print('Min : ',np.min(arr))"
   ]
  },
  {
   "cell_type": "markdown",
   "id": "83937d10",
   "metadata": {},
   "source": [
    "# Lab 10_completed"
   ]
  },
  {
   "cell_type": "code",
   "execution_count": null,
   "id": "c3196677",
   "metadata": {},
   "outputs": [],
   "source": []
  }
 ],
 "metadata": {
  "kernelspec": {
   "display_name": "Python 3",
   "language": "python",
   "name": "python3"
  },
  "language_info": {
   "codemirror_mode": {
    "name": "ipython",
    "version": 3
   },
   "file_extension": ".py",
   "mimetype": "text/x-python",
   "name": "python",
   "nbconvert_exporter": "python",
   "pygments_lexer": "ipython3",
   "version": "3.8.8"
  }
 },
 "nbformat": 4,
 "nbformat_minor": 5
}
