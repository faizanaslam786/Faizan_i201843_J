{
 "cells": [
  {
   "cell_type": "code",
   "execution_count": 1,
   "id": "d8666bdf",
   "metadata": {
    "colab": {
     "base_uri": "https://localhost:8080/"
    },
    "executionInfo": {
     "elapsed": 5074,
     "status": "ok",
     "timestamp": 1663742849918,
     "user": {
      "displayName": "i201843 Faizan Aslam",
      "userId": "08265058222182563921"
     },
     "user_tz": -300
    },
    "id": "d8666bdf",
    "outputId": "4fb4dab9-05f6-47fa-c16a-cedcba04066f"
   },
   "outputs": [],
   "source": [
    "# pip install pandas"
   ]
  },
  {
   "cell_type": "code",
   "execution_count": 2,
   "id": "2650dee3",
   "metadata": {
    "executionInfo": {
     "elapsed": 574,
     "status": "ok",
     "timestamp": 1663747366794,
     "user": {
      "displayName": "i201843 Faizan Aslam",
      "userId": "08265058222182563921"
     },
     "user_tz": -300
    },
    "id": "2650dee3"
   },
   "outputs": [],
   "source": [
    "import numpy as np\n",
    "import pandas as pd\n",
    "import math\n"
   ]
  },
  {
   "cell_type": "code",
   "execution_count": 3,
   "id": "aca34935",
   "metadata": {},
   "outputs": [
    {
     "name": "stdout",
     "output_type": "stream",
     "text": [
      "       SepalLength  SepalWidth  PetalLength  PetalWidth\n",
      "count   149.000000  149.000000   149.000000  149.000000\n",
      "mean      5.848322    3.051007     3.774497    1.205369\n",
      "std       0.828594    0.433499     1.759651    0.761292\n",
      "min       4.300000    2.000000     1.000000    0.100000\n",
      "25%       5.100000    2.800000     1.600000    0.300000\n",
      "50%       5.800000    3.000000     4.400000    1.300000\n",
      "75%       6.400000    3.300000     5.100000    1.800000\n",
      "max       7.900000    4.400000     6.900000    2.500000\n",
      "PetalLength= [1.4, 1.3, 1.5, 1.4, 1.7, 1.4, 1.5, 1.4, 1.5, 1.5, 1.6, 1.4, 1.1, 1.2, 1.5, 1.3, 1.4, 1.7, 1.5, 1.7, 1.5, 1.0, 1.7, 1.9, 1.6, 1.6, 1.5, 1.4, 1.6, 1.6, 1.5, 1.5, 1.4, 1.5, 1.2, 1.3, 1.5, 1.3, 1.5, 1.3, 1.3, 1.3, 1.6, 1.9, 1.4, 1.6, 1.4, 1.5, 1.4, 4.7, 4.5, 4.9, 4.0, 4.6, 4.5, 4.7, 3.3, 4.6, 3.9, 3.5, 4.2, 4.0, 4.7, 3.6, 4.4, 4.5, 4.1, 4.5, 3.9, 4.8, 4.0, 4.9, 4.7, 4.3, 4.4, 4.8, 5.0, 4.5, 3.5, 3.8, 3.7, 3.9, 5.1, 4.5, 4.5, 4.7, 4.4, 4.1, 4.0, 4.4, 4.6, 4.0, 3.3, 4.2, 4.2, 4.2, 4.3, 3.0, 4.1, 6.0, 5.1, 5.9, 5.6, 5.8, 6.6, 4.5, 6.3, 5.8, 6.1, 5.1, 5.3, 5.5, 5.0, 5.1, 5.3, 5.5, 6.7, 6.9, 5.0, 5.7, 4.9, 6.7, 4.9, 5.7, 6.0, 4.8, 4.9, 5.6, 5.8, 6.1, 6.4, 5.6, 5.1, 5.6, 6.1, 5.6, 5.5, 4.8, 5.4, 5.6, 5.1, 5.1, 5.9, 5.7, 5.2, 5.0, 5.2, 5.4, 5.1]\n",
      "PetalWidth= [0.2, 0.2, 0.2, 0.2, 0.4, 0.3, 0.2, 0.2, 0.1, 0.2, 0.2, 0.1, 0.1, 0.2, 0.4, 0.4, 0.3, 0.3, 0.3, 0.2, 0.4, 0.2, 0.5, 0.2, 0.2, 0.4, 0.2, 0.2, 0.2, 0.2, 0.4, 0.1, 0.2, 0.1, 0.2, 0.2, 0.1, 0.2, 0.2, 0.3, 0.3, 0.2, 0.6, 0.4, 0.3, 0.2, 0.2, 0.2, 0.2, 1.4, 1.5, 1.5, 1.3, 1.5, 1.3, 1.6, 1.0, 1.3, 1.4, 1.0, 1.5, 1.0, 1.4, 1.3, 1.4, 1.5, 1.0, 1.5, 1.1, 1.8, 1.3, 1.5, 1.2, 1.3, 1.4, 1.4, 1.7, 1.5, 1.0, 1.1, 1.0, 1.2, 1.6, 1.5, 1.6, 1.5, 1.3, 1.3, 1.3, 1.2, 1.4, 1.2, 1.0, 1.3, 1.2, 1.3, 1.3, 1.1, 1.3, 2.5, 1.9, 2.1, 1.8, 2.2, 2.1, 1.7, 1.8, 1.8, 2.5, 2.0, 1.9, 2.1, 2.0, 2.4, 2.3, 1.8, 2.2, 2.3, 1.5, 2.3, 2.0, 2.0, 1.8, 2.1, 1.8, 1.8, 1.8, 2.1, 1.6, 1.9, 2.0, 2.2, 1.5, 1.4, 2.3, 2.4, 1.8, 1.8, 2.1, 2.4, 2.3, 1.9, 2.3, 2.5, 2.3, 1.9, 2.0, 2.3, 1.8]\n"
     ]
    }
   ],
   "source": [
    "#Load data and name the columns\n",
    "data=pd.read_csv('./iris.data')\n",
    "data.columns=['SepalLength','SepalWidth','PetalLength','PetalWidth','Class']\n",
    "print (data.describe())\n",
    "\n",
    "#Code for generating data....\n",
    "datalist=[] #create an empty list\n",
    "# data list is a list of two elements, where index=0 contains data corresponding to petal \n",
    "# length and index=1 contains data corresponding to petal width\n",
    "datalist.append(list(data['PetalLength'].dropna()))\n",
    "datalist.append(list(data['PetalWidth'].dropna()))\n",
    "datalist.append(list(data['SepalLength'].dropna()))\n",
    "datalist.append(list(data['SepalWidth'].dropna()))\n",
    "\n",
    "#If you want you build a numpy array from this list.\n",
    "\n",
    "print (\"PetalLength=\", datalist[0])\n",
    "print (\"PetalWidth=\", datalist[1])\n",
    "\n",
    "#This and above code are both same...\n",
    "# datalist=[0]*2#create a list of 2 elements\n",
    "# datalist[0]=(list(data['PetalLength'].dropna()))\n",
    "# datalist[1]=(list(data['PetalWidth'].dropna()))\n",
    "#data list is a list of two elements, where index=0 contains data corresponding to petal \n",
    "# length and index=1 contains data corresponding to petal width\n",
    "# print(\"PetalLength=\", datalist[0])\n",
    "# print(\"PetalWidth=\", datalist[1])"
   ]
  },
  {
   "cell_type": "markdown",
   "id": "fL_k1EIbzojs",
   "metadata": {
    "id": "fL_k1EIbzojs"
   },
   "source": [
    "## Bonus Task IS one 8 inch pizza better than two 5 inch pizzas\n",
    "\n",
    "---\n",
    "\n"
   ]
  },
  {
   "cell_type": "code",
   "execution_count": 4,
   "id": "lC8hoKRVzxWT",
   "metadata": {
    "colab": {
     "base_uri": "https://localhost:8080/"
    },
    "executionInfo": {
     "elapsed": 19,
     "status": "ok",
     "timestamp": 1663747367391,
     "user": {
      "displayName": "i201843 Faizan Aslam",
      "userId": "08265058222182563921"
     },
     "user_tz": -300
    },
    "id": "lC8hoKRVzxWT",
    "outputId": "2f67b245-5f5c-46f9-c85a-bd1bc6adf4e6"
   },
   "outputs": [
    {
     "name": "stdout",
     "output_type": "stream",
     "text": [
      "Area of one  8 inch pizza : 201.088 \n",
      " Area of two 5 inch pizza is : 157.1\n",
      "So by statistically calculating areas one 8 inch pizza is better than two inch pizzas\n"
     ]
    }
   ],
   "source": [
    "cal1=3.142*((8)**2)\n",
    "cal2=3.142*((5)**2)+(3.142*((5)**2))\n",
    "print(\"Area of one  8 inch pizza :\",cal1,\"\\n Area of two 5 inch pizza is :\",cal2)\n",
    "print(\"So by statistically calculating areas one 8 inch pizza is better than two inch pizzas\")"
   ]
  },
  {
   "cell_type": "markdown",
   "id": "W6p4weVn3PMF",
   "metadata": {
    "id": "W6p4weVn3PMF"
   },
   "source": [
    "## Task1"
   ]
  },
  {
   "cell_type": "code",
   "execution_count": 5,
   "id": "gdtttVxe9UGb",
   "metadata": {
    "colab": {
     "base_uri": "https://localhost:8080/"
    },
    "executionInfo": {
     "elapsed": 405,
     "status": "ok",
     "timestamp": 1663748763012,
     "user": {
      "displayName": "i201843 Faizan Aslam",
      "userId": "08265058222182563921"
     },
     "user_tz": -300
    },
    "id": "gdtttVxe9UGb",
    "outputId": "40475a85-3cb1-426f-ba05-4603ab410b39"
   },
   "outputs": [
    {
     "name": "stdout",
     "output_type": "stream",
     "text": [
      "              [w ,r, b]\n",
      "combination : [0, 0, 3]  probability : 0.008791208791208791\n",
      "combination : [0, 1, 2]  probability : 0.06593406593406594\n",
      "combination : [0, 2, 1]  probability : 0.08791208791208792\n",
      "combination : [0, 3, 0]  probability : 0.02197802197802198\n",
      "combination : [1, 0, 2]  probability : 0.07912087912087912\n",
      "combination : [1, 1, 1]  probability : 0.26373626373626374\n",
      "combination : [1, 2, 0]  probability : 0.13186813186813187\n",
      "combination : [2, 0, 1]  probability : 0.13186813186813187\n",
      "combination : [2, 1, 0]  probability : 0.16483516483516483\n",
      "combination : [3, 0, 0]  probability : 0.04395604395604396\n"
     ]
    }
   ],
   "source": [
    "n=15\n",
    "r=3\n",
    "\n",
    "\n",
    "\n",
    "l=[0,1,2,3]\n",
    "s=[]\n",
    "com=[]\n",
    "cnt=0\n",
    "for i in l:\n",
    "    for j in l:\n",
    "        for k in l:\n",
    "            if((i+j+k)==3):\n",
    "                s.append(i)\n",
    "                s.append(j)\n",
    "                s.append(k)\n",
    "                com.append(s)\n",
    "                cnt=0\n",
    "                s=[]\n",
    "\n",
    "fct=math.factorial\n",
    "t=fct(n)/(fct(r)*fct(n-r))\n",
    "tp=[]  # total probabilities= 10\n",
    "for i in com:\n",
    "    tp.append(( ((fct(6)/(fct(i[0])*fct(6-i[0]))))* (fct(4)/(fct(i[2])*fct(4-i[2]))) * ((fct(5)/(fct(i[1])*fct(5-i[1])))) )/t)\n",
    "print(\"              [w ,r, b]\")\n",
    "for i in range(0,len(tp)):\n",
    "    print(\"combination :\",com[i],\" probability :\",tp[i])"
   ]
  },
  {
   "cell_type": "markdown",
   "id": "2035b671",
   "metadata": {
    "executionInfo": {
     "elapsed": 9,
     "status": "ok",
     "timestamp": 1663747367394,
     "user": {
      "displayName": "i201843 Faizan Aslam",
      "userId": "08265058222182563921"
     },
     "user_tz": -300
    },
    "id": "b59Gnau-ANIa"
   },
   "source": [
    "# Task2   and Task4\n"
   ]
  },
  {
   "cell_type": "code",
   "execution_count": 6,
   "id": "7be4b61d",
   "metadata": {},
   "outputs": [
    {
     "name": "stdout",
     "output_type": "stream",
     "text": [
      "Mean vector of sesota \n",
      " SepalLength    5.004082\n",
      "SepalWidth     3.416327\n",
      "PetalLength    1.465306\n",
      "PetalWidth     0.244898\n",
      "dtype: float64\n",
      "\n",
      "Mean vector of virginica \n",
      " SepalLength    6.588\n",
      "SepalWidth     2.974\n",
      "PetalLength    5.552\n",
      "PetalWidth     2.026\n",
      "dtype: float64\n",
      "\n",
      "Mean vector of versicolor \n",
      " SepalLength    5.936\n",
      "SepalWidth     2.770\n",
      "PetalLength    4.260\n",
      "PetalWidth     1.326\n",
      "dtype: float64\n"
     ]
    }
   ],
   "source": [
    "#Write your code here\n",
    "tmp=[]\n",
    "ses=[]      #Iris-setosa \n",
    "ver=[]       # Iris-versicolor\n",
    "vir=[]            #Iris-virginica\n",
    "for i in range(0,len(data)):\n",
    "    if(data['Class'][i]=='Iris-setosa'):\n",
    "        tmp.append(data['SepalLength'][i])\n",
    "        tmp.append(data['SepalWidth'][i])\n",
    "        tmp.append(data['PetalLength'][i])\n",
    "        tmp.append(data['PetalWidth'][i])\n",
    "        tmp.append(data['Class'][i])\n",
    "        ses.append(tmp)\n",
    "        tmp=[]\n",
    "    if(data['Class'][i]=='Iris-virginica'):\n",
    "        tmp.append(data['SepalLength'][i])\n",
    "        tmp.append(data['SepalWidth'][i])\n",
    "        tmp.append(data['PetalLength'][i])\n",
    "        tmp.append(data['PetalWidth'][i])\n",
    "        tmp.append(data['Class'][i])\n",
    "        vir.append(tmp)\n",
    "        tmp=[]\n",
    "    if(data['Class'][i]=='Iris-versicolor'):\n",
    "        tmp.append(data['SepalLength'][i])\n",
    "        tmp.append(data['SepalWidth'][i])\n",
    "        tmp.append(data['PetalLength'][i])\n",
    "        tmp.append(data['PetalWidth'][i])\n",
    "        tmp.append(data['Class'][i])\n",
    "        ver.append(tmp)\n",
    "        tmp=[]\n",
    "        \n",
    "ses=pd.DataFrame(ses)\n",
    "ses.columns=[['SepalLength','SepalWidth','PetalLength','PetalWidth','Class']]\n",
    "    \n",
    "ver=pd.DataFrame(ver)\n",
    "ver.columns=['SepalLength','SepalWidth','PetalLength','PetalWidth','Class']\n",
    "\n",
    "vir=pd.DataFrame(vir)\n",
    "vir.columns=['SepalLength','SepalWidth','PetalLength','PetalWidth','Class']\n",
    "\n",
    "\n",
    "vir_mean=np.mean(vir,axis=0)\n",
    "ver_mean=np.mean(ver,axis=0)\n",
    "ses_mean=np.mean(ses,axis=0)\n",
    "print('Mean vector of sesota \\n',ses_mean)\n",
    "print('\\nMean vector of virginica \\n',vir_mean)\n",
    "print('\\nMean vector of versicolor \\n',ver_mean)"
   ]
  },
  {
   "cell_type": "code",
   "execution_count": 7,
   "id": "d8e7e144",
   "metadata": {},
   "outputs": [
    {
     "name": "stderr",
     "output_type": "stream",
     "text": [
      "C:\\ProgramData\\Anaconda3\\lib\\site-packages\\pandas\\core\\generic.py:4153: PerformanceWarning: dropping on a non-lexsorted multi-index without a level parameter may impact performance.\n",
      "  obj = obj._drop_axis(labels, axis, level=level, errors=errors)\n"
     ]
    }
   ],
   "source": [
    "ver=ver.drop(['Class'],axis=1)\n",
    "vir=vir.drop(['Class'],axis=1)\n",
    "ses=ses.drop(['Class'],axis=1)"
   ]
  },
  {
   "cell_type": "code",
   "execution_count": 8,
   "id": "77ccb075",
   "metadata": {},
   "outputs": [
    {
     "name": "stdout",
     "output_type": "stream",
     "text": [
      "Versicolor covariance matrix\n",
      "              SepalLength  SepalWidth  PetalLength  PetalWidth\n",
      "SepalLength     0.266433    0.085184     0.182898    0.055780\n",
      "SepalWidth      0.085184    0.098469     0.082653    0.041204\n",
      "PetalLength     0.182898    0.082653     0.220816    0.073102\n",
      "PetalWidth      0.055780    0.041204     0.073102    0.039106\n",
      "\n",
      "Virginica covariance matrix\n",
      "              SepalLength  SepalWidth  PetalLength  PetalWidth\n",
      "SepalLength     0.404343    0.093763     0.303290    0.049094\n",
      "SepalWidth      0.093763    0.104004     0.071380    0.047629\n",
      "PetalLength     0.303290    0.071380     0.304588    0.048824\n",
      "PetalWidth      0.049094    0.047629     0.048824    0.075433\n",
      "\n",
      "Sesota covariance matrix\n",
      "             SepalLength SepalWidth PetalLength PetalWidth\n",
      "SepalLength    0.126650   0.102224    0.016603   0.010855\n",
      "SepalWidth     0.102224   0.148061    0.012037   0.011752\n",
      "PetalLength    0.016603   0.012037    0.030646   0.005757\n",
      "PetalWidth     0.010855   0.011752    0.005757   0.011692\n"
     ]
    }
   ],
   "source": [
    "\n",
    "ver_cov=ver.cov()\n",
    "vir_cov=vir.cov()\n",
    "ses_cov=ses.cov()\n",
    "\n",
    "print(\"Versicolor covariance matrix\\n\",ver_cov)\n",
    "print(\"\\nVirginica covariance matrix\\n\",vir_cov)\n",
    "print(\"\\nSesota covariance matrix\\n\",ses_cov)"
   ]
  },
  {
   "cell_type": "code",
   "execution_count": 9,
   "id": "20099977",
   "metadata": {},
   "outputs": [],
   "source": [
    "# ses_cov=np.asarray(ses_cov)\n",
    "# ver_cov=np.asarray(ver_cov)\n",
    "# vir_cov=np.asarray(vir_cov)\n",
    "# for i in range(0,len(ses_cov)):\n",
    "#     for j in range(0,len(ses_cov)):\n",
    "#         if(i!=j):\n",
    "#             ses_cov[i][j]=0 \n",
    "# #     print(\"covariance\",ses_cov)\n",
    "# for i in range(0,len(ver_cov)):\n",
    "#     for j in range(0,len(ver_cov)):\n",
    "#         if(i!=j):\n",
    "#             ver_cov[i][j]=0 \n",
    "# #     print(\"covariance\",ver_cov)\n",
    "\n",
    "# for i in range(0,len(vir_cov)):\n",
    "#     for j in range(0,len(vir_cov)):\n",
    "#         if(i!=j):\n",
    "#             vir_cov[i][j]=0    \n",
    "#     print(\"covariance\",vir_cov)\n",
    "\n",
    "ses_det=np.linalg.det(ses_cov)\n",
    "ver_det=np.linalg.det(ver_cov)\n",
    "vir_det=np.linalg.det(vir_cov)\n",
    "\n",
    "\n",
    "ses_cov_inv=np.linalg.inv(ses_cov)\n",
    "ver_cov_inv=np.linalg.inv(ver_cov)\n",
    "vir_cov_inv=np.linalg.inv(vir_cov)\n",
    "#     print(\"cov_inv\",cov_inv)\n",
    "#     print(cov_inv.shape)\n",
    "#     print(x-mean)"
   ]
  },
  {
   "cell_type": "code",
   "execution_count": 10,
   "id": "a52d27b5",
   "metadata": {},
   "outputs": [],
   "source": [
    "y=data['Class']           # Prdicting label column\n",
    "x=data.drop(['Class'],axis=1)  # Rest dataset\n",
    "\n",
    "from sklearn.model_selection import train_test_split\n",
    "X_train, X_test, y_train, y_test = train_test_split(x, y, random_state=0, train_size = .75)"
   ]
  },
  {
   "cell_type": "code",
   "execution_count": 11,
   "id": "102aae23",
   "metadata": {},
   "outputs": [],
   "source": [
    "#Write your code here\n",
    "                                #a=1/(((2*3.142)**4)*det[cov])**(0.5)\n",
    "                                #b=exp**((-0.5*(x-µ)T)(E^-1*(x-µ))\n",
    "def mult_Gau(mean,cov,deter,cov_inv,x):\n",
    "                # Pl , Pw, Sl,Sw  # e=2.718, pi=3.142\n",
    "    pi=3.142\n",
    "    e=2.718\n",
    "    \n",
    "    a=1/(((((2*pi)**4))*deter)**(0.5))                                \n",
    "    \n",
    "    b_1=(-0.5*((x-mean).T))\n",
    "    \n",
    "    b_2=np.dot(cov_inv,(x-mean))\n",
    "    \n",
    "    b=e**(np.dot(b_1,b_2))\n",
    "    return a*b\n"
   ]
  },
  {
   "cell_type": "code",
   "execution_count": 12,
   "id": "7662530a",
   "metadata": {},
   "outputs": [],
   "source": [
    "x_test_check = []\n",
    "\n",
    "for i in range(0,len(X_test)):\n",
    "    p1 = mult_Gau(np.asarray(ses_mean),ses_cov,ses_det,ses_cov_inv,np.asarray(X_test)[i])\n",
    "    p1=p1*(1/3)\n",
    "#     print(\"p1\" , p1)\n",
    "    p2 = mult_Gau(np.asarray(ver_mean),ver_cov,ver_det,ver_cov_inv,np.asarray(X_test)[i])\n",
    "    p2=p2*(1/3)\n",
    "#     print(\"p2\" , p2)\n",
    "    \n",
    "    p3 = mult_Gau(np.asarray(vir_mean),vir_cov,vir_det,vir_cov_inv,np.asarray(X_test)[i])\n",
    "    p3=p3*(1/3)\n",
    "#     print(\"p3\" , p3)\n",
    "    \n",
    "    \n",
    "    if((p1>p2) and (p1>p3)):\n",
    "        x_test_check.append('Iris-setosa')\n",
    "    elif((p2>p1) and (p2>p3)):\n",
    "        x_test_check.append('Iris-versicolor')\n",
    "    else:\n",
    "        x_test_check.append('Iris-virginica')\n",
    "    \n",
    "    "
   ]
  },
  {
   "cell_type": "code",
   "execution_count": 13,
   "id": "582eff4d",
   "metadata": {},
   "outputs": [
    {
     "name": "stdout",
     "output_type": "stream",
     "text": [
      "Personal function accuracy: 94.73684210526315\n"
     ]
    }
   ],
   "source": [
    "y_test=np.asarray(y_test)\n",
    "c=0\n",
    "for i in range(0,len(y_test)):\n",
    "    if(x_test_check[i])==y_test[i]:\n",
    "        c+=1\n",
    "p_a=((c/len(y_test))*100)\n",
    "print(\"Personal function accuracy:\",p_a)"
   ]
  },
  {
   "cell_type": "code",
   "execution_count": 14,
   "id": "ff2653da",
   "metadata": {},
   "outputs": [],
   "source": [
    "# for i in range(0,len(y_test)):\n",
    "#     print(\"X_test\",x_test_check[i],\"y_test\",y_test[i])"
   ]
  },
  {
   "cell_type": "markdown",
   "id": "bb707f5d",
   "metadata": {},
   "source": [
    "# Task3"
   ]
  },
  {
   "cell_type": "code",
   "execution_count": 15,
   "id": "091761a1",
   "metadata": {},
   "outputs": [
    {
     "data": {
      "text/html": [
       "<div>\n",
       "<style scoped>\n",
       "    .dataframe tbody tr th:only-of-type {\n",
       "        vertical-align: middle;\n",
       "    }\n",
       "\n",
       "    .dataframe tbody tr th {\n",
       "        vertical-align: top;\n",
       "    }\n",
       "\n",
       "    .dataframe thead th {\n",
       "        text-align: right;\n",
       "    }\n",
       "</style>\n",
       "<table border=\"1\" class=\"dataframe\">\n",
       "  <thead>\n",
       "    <tr style=\"text-align: right;\">\n",
       "      <th></th>\n",
       "      <th>SepalLength</th>\n",
       "      <th>SepalWidth</th>\n",
       "      <th>PetalLength</th>\n",
       "      <th>PetalWidth</th>\n",
       "      <th>Class</th>\n",
       "    </tr>\n",
       "  </thead>\n",
       "  <tbody>\n",
       "    <tr>\n",
       "      <th>0</th>\n",
       "      <td>4.9</td>\n",
       "      <td>3.0</td>\n",
       "      <td>1.4</td>\n",
       "      <td>0.2</td>\n",
       "      <td>Iris-setosa</td>\n",
       "    </tr>\n",
       "    <tr>\n",
       "      <th>1</th>\n",
       "      <td>4.7</td>\n",
       "      <td>3.2</td>\n",
       "      <td>1.3</td>\n",
       "      <td>0.2</td>\n",
       "      <td>Iris-setosa</td>\n",
       "    </tr>\n",
       "    <tr>\n",
       "      <th>2</th>\n",
       "      <td>4.6</td>\n",
       "      <td>3.1</td>\n",
       "      <td>1.5</td>\n",
       "      <td>0.2</td>\n",
       "      <td>Iris-setosa</td>\n",
       "    </tr>\n",
       "    <tr>\n",
       "      <th>3</th>\n",
       "      <td>5.0</td>\n",
       "      <td>3.6</td>\n",
       "      <td>1.4</td>\n",
       "      <td>0.2</td>\n",
       "      <td>Iris-setosa</td>\n",
       "    </tr>\n",
       "    <tr>\n",
       "      <th>4</th>\n",
       "      <td>5.4</td>\n",
       "      <td>3.9</td>\n",
       "      <td>1.7</td>\n",
       "      <td>0.4</td>\n",
       "      <td>Iris-setosa</td>\n",
       "    </tr>\n",
       "    <tr>\n",
       "      <th>...</th>\n",
       "      <td>...</td>\n",
       "      <td>...</td>\n",
       "      <td>...</td>\n",
       "      <td>...</td>\n",
       "      <td>...</td>\n",
       "    </tr>\n",
       "    <tr>\n",
       "      <th>144</th>\n",
       "      <td>6.7</td>\n",
       "      <td>3.0</td>\n",
       "      <td>5.2</td>\n",
       "      <td>2.3</td>\n",
       "      <td>Iris-virginica</td>\n",
       "    </tr>\n",
       "    <tr>\n",
       "      <th>145</th>\n",
       "      <td>6.3</td>\n",
       "      <td>2.5</td>\n",
       "      <td>5.0</td>\n",
       "      <td>1.9</td>\n",
       "      <td>Iris-virginica</td>\n",
       "    </tr>\n",
       "    <tr>\n",
       "      <th>146</th>\n",
       "      <td>6.5</td>\n",
       "      <td>3.0</td>\n",
       "      <td>5.2</td>\n",
       "      <td>2.0</td>\n",
       "      <td>Iris-virginica</td>\n",
       "    </tr>\n",
       "    <tr>\n",
       "      <th>147</th>\n",
       "      <td>6.2</td>\n",
       "      <td>3.4</td>\n",
       "      <td>5.4</td>\n",
       "      <td>2.3</td>\n",
       "      <td>Iris-virginica</td>\n",
       "    </tr>\n",
       "    <tr>\n",
       "      <th>148</th>\n",
       "      <td>5.9</td>\n",
       "      <td>3.0</td>\n",
       "      <td>5.1</td>\n",
       "      <td>1.8</td>\n",
       "      <td>Iris-virginica</td>\n",
       "    </tr>\n",
       "  </tbody>\n",
       "</table>\n",
       "<p>149 rows × 5 columns</p>\n",
       "</div>"
      ],
      "text/plain": [
       "     SepalLength  SepalWidth  PetalLength  PetalWidth           Class\n",
       "0            4.9         3.0          1.4         0.2     Iris-setosa\n",
       "1            4.7         3.2          1.3         0.2     Iris-setosa\n",
       "2            4.6         3.1          1.5         0.2     Iris-setosa\n",
       "3            5.0         3.6          1.4         0.2     Iris-setosa\n",
       "4            5.4         3.9          1.7         0.4     Iris-setosa\n",
       "..           ...         ...          ...         ...             ...\n",
       "144          6.7         3.0          5.2         2.3  Iris-virginica\n",
       "145          6.3         2.5          5.0         1.9  Iris-virginica\n",
       "146          6.5         3.0          5.2         2.0  Iris-virginica\n",
       "147          6.2         3.4          5.4         2.3  Iris-virginica\n",
       "148          5.9         3.0          5.1         1.8  Iris-virginica\n",
       "\n",
       "[149 rows x 5 columns]"
      ]
     },
     "execution_count": 15,
     "metadata": {},
     "output_type": "execute_result"
    }
   ],
   "source": [
    "data"
   ]
  },
  {
   "cell_type": "code",
   "execution_count": 16,
   "id": "28fcce99",
   "metadata": {},
   "outputs": [
    {
     "name": "stdout",
     "output_type": "stream",
     "text": [
      "Accuracy :  86.8421052631579\n",
      "f1-score :  84.81973434535105\n"
     ]
    }
   ],
   "source": [
    "from sklearn.naive_bayes import GaussianNB\n",
    "from sklearn.metrics import accuracy_score\n",
    "from sklearn.metrics import f1_score\n",
    "\n",
    "clf = GaussianNB()\n",
    "clf.fit(X_train, y_train)\n",
    "GaussianNB()\n",
    "pred=(clf.predict(X_test))\n",
    "clf.score(X_test,y_test)\n",
    "\n",
    "print (\"Accuracy : \" , accuracy_score(y_test,pred)*100) \n",
    "print (\"f1-score : \" ,f1_score(y_test,pred, average='macro')*100)"
   ]
  },
  {
   "cell_type": "code",
   "execution_count": 17,
   "id": "cd32a01c",
   "metadata": {},
   "outputs": [
    {
     "name": "stdout",
     "output_type": "stream",
     "text": [
      "Builtin function accuracy : 86.8421052631579\n",
      "Personal function accuracy : 94.73684210526315\n"
     ]
    }
   ],
   "source": [
    "print(\"Builtin function accuracy :\",accuracy_score(y_test,pred)*100)\n",
    "print(\"Personal function accuracy :\",p_a)"
   ]
  },
  {
   "cell_type": "code",
   "execution_count": 18,
   "id": "e5958d78",
   "metadata": {},
   "outputs": [
    {
     "name": "stdout",
     "output_type": "stream",
     "text": [
      "Personally built in function gives vetter accuracy than GaussianNB .\n"
     ]
    }
   ],
   "source": [
    "print(\"Personally built in function gives vetter accuracy than GaussianNB .\")"
   ]
  },
  {
   "cell_type": "markdown",
   "id": "96add2e3",
   "metadata": {},
   "source": [
    "# Lab 5 competed"
   ]
  }
 ],
 "metadata": {
  "colab": {
   "collapsed_sections": [],
   "provenance": []
  },
  "kernelspec": {
   "display_name": "Python 3",
   "language": "python",
   "name": "python3"
  },
  "language_info": {
   "codemirror_mode": {
    "name": "ipython",
    "version": 3
   },
   "file_extension": ".py",
   "mimetype": "text/x-python",
   "name": "python",
   "nbconvert_exporter": "python",
   "pygments_lexer": "ipython3",
   "version": "3.8.8"
  }
 },
 "nbformat": 4,
 "nbformat_minor": 5
}
