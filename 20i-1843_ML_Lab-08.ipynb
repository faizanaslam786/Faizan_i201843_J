{
 "cells": [
  {
   "cell_type": "code",
   "execution_count": 1,
   "id": "5de397f6",
   "metadata": {},
   "outputs": [],
   "source": [
    "import numpy as np\n",
    "import pandas as pd\n",
    "import math"
   ]
  },
  {
   "cell_type": "code",
   "execution_count": 2,
   "id": "616a142f",
   "metadata": {},
   "outputs": [
    {
     "data": {
      "text/html": [
       "<div>\n",
       "<style scoped>\n",
       "    .dataframe tbody tr th:only-of-type {\n",
       "        vertical-align: middle;\n",
       "    }\n",
       "\n",
       "    .dataframe tbody tr th {\n",
       "        vertical-align: top;\n",
       "    }\n",
       "\n",
       "    .dataframe thead th {\n",
       "        text-align: right;\n",
       "    }\n",
       "</style>\n",
       "<table border=\"1\" class=\"dataframe\">\n",
       "  <thead>\n",
       "    <tr style=\"text-align: right;\">\n",
       "      <th></th>\n",
       "      <th>outlook</th>\n",
       "      <th>temp</th>\n",
       "      <th>humidity</th>\n",
       "      <th>wind</th>\n",
       "      <th>play</th>\n",
       "    </tr>\n",
       "  </thead>\n",
       "  <tbody>\n",
       "    <tr>\n",
       "      <th>0</th>\n",
       "      <td>Sunny</td>\n",
       "      <td>Hot</td>\n",
       "      <td>High</td>\n",
       "      <td>Weak</td>\n",
       "      <td>No</td>\n",
       "    </tr>\n",
       "    <tr>\n",
       "      <th>1</th>\n",
       "      <td>Sunny</td>\n",
       "      <td>Hot</td>\n",
       "      <td>High</td>\n",
       "      <td>Strong</td>\n",
       "      <td>No</td>\n",
       "    </tr>\n",
       "    <tr>\n",
       "      <th>2</th>\n",
       "      <td>Overcast</td>\n",
       "      <td>Hot</td>\n",
       "      <td>High</td>\n",
       "      <td>Weak</td>\n",
       "      <td>Yes</td>\n",
       "    </tr>\n",
       "    <tr>\n",
       "      <th>3</th>\n",
       "      <td>Rain</td>\n",
       "      <td>Mild</td>\n",
       "      <td>High</td>\n",
       "      <td>Weak</td>\n",
       "      <td>Yes</td>\n",
       "    </tr>\n",
       "    <tr>\n",
       "      <th>4</th>\n",
       "      <td>Rain</td>\n",
       "      <td>Cool</td>\n",
       "      <td>Normal</td>\n",
       "      <td>Weak</td>\n",
       "      <td>Yes</td>\n",
       "    </tr>\n",
       "    <tr>\n",
       "      <th>5</th>\n",
       "      <td>Rain</td>\n",
       "      <td>Cool</td>\n",
       "      <td>Normal</td>\n",
       "      <td>Strong</td>\n",
       "      <td>No</td>\n",
       "    </tr>\n",
       "    <tr>\n",
       "      <th>6</th>\n",
       "      <td>Overcast</td>\n",
       "      <td>Cool</td>\n",
       "      <td>Normal</td>\n",
       "      <td>Strong</td>\n",
       "      <td>Yes</td>\n",
       "    </tr>\n",
       "    <tr>\n",
       "      <th>7</th>\n",
       "      <td>Sunny</td>\n",
       "      <td>Mild</td>\n",
       "      <td>High</td>\n",
       "      <td>Weak</td>\n",
       "      <td>No</td>\n",
       "    </tr>\n",
       "    <tr>\n",
       "      <th>8</th>\n",
       "      <td>Sunny</td>\n",
       "      <td>Cool</td>\n",
       "      <td>Normal</td>\n",
       "      <td>Weak</td>\n",
       "      <td>Yes</td>\n",
       "    </tr>\n",
       "    <tr>\n",
       "      <th>9</th>\n",
       "      <td>Rain</td>\n",
       "      <td>Mild</td>\n",
       "      <td>Normal</td>\n",
       "      <td>Weak</td>\n",
       "      <td>Yes</td>\n",
       "    </tr>\n",
       "    <tr>\n",
       "      <th>10</th>\n",
       "      <td>Sunny</td>\n",
       "      <td>Mild</td>\n",
       "      <td>Normal</td>\n",
       "      <td>Strong</td>\n",
       "      <td>Yes</td>\n",
       "    </tr>\n",
       "    <tr>\n",
       "      <th>11</th>\n",
       "      <td>Overcast</td>\n",
       "      <td>Mild</td>\n",
       "      <td>High</td>\n",
       "      <td>Strong</td>\n",
       "      <td>Yes</td>\n",
       "    </tr>\n",
       "    <tr>\n",
       "      <th>12</th>\n",
       "      <td>Overcast</td>\n",
       "      <td>Hot</td>\n",
       "      <td>Normal</td>\n",
       "      <td>Weak</td>\n",
       "      <td>Yes</td>\n",
       "    </tr>\n",
       "    <tr>\n",
       "      <th>13</th>\n",
       "      <td>Rain</td>\n",
       "      <td>Mild</td>\n",
       "      <td>High</td>\n",
       "      <td>Strong</td>\n",
       "      <td>No</td>\n",
       "    </tr>\n",
       "  </tbody>\n",
       "</table>\n",
       "</div>"
      ],
      "text/plain": [
       "     outlook  temp humidity    wind play\n",
       "0      Sunny   Hot     High    Weak   No\n",
       "1      Sunny   Hot     High  Strong   No\n",
       "2   Overcast   Hot     High    Weak  Yes\n",
       "3       Rain  Mild     High    Weak  Yes\n",
       "4       Rain  Cool   Normal    Weak  Yes\n",
       "5       Rain  Cool   Normal  Strong   No\n",
       "6   Overcast  Cool   Normal  Strong  Yes\n",
       "7      Sunny  Mild     High    Weak   No\n",
       "8      Sunny  Cool   Normal    Weak  Yes\n",
       "9       Rain  Mild   Normal    Weak  Yes\n",
       "10     Sunny  Mild   Normal  Strong  Yes\n",
       "11  Overcast  Mild     High  Strong  Yes\n",
       "12  Overcast   Hot   Normal    Weak  Yes\n",
       "13      Rain  Mild     High  Strong   No"
      ]
     },
     "execution_count": 2,
     "metadata": {},
     "output_type": "execute_result"
    }
   ],
   "source": [
    "df=pd.read_csv(f'play_tennis.csv')\n",
    "df.drop('day',axis=1,inplace=True)\n",
    "df"
   ]
  },
  {
   "cell_type": "code",
   "execution_count": 3,
   "id": "0c4c2afb",
   "metadata": {},
   "outputs": [],
   "source": [
    "def Information_gain(col,Y ,label_ent): \n",
    "    uniq=[]\n",
    "    for i in col:\n",
    "        if i not in uniq:\n",
    "            uniq.append(i)\n",
    "    #######################     probabilities of each example of that specific column\n",
    "    prob_of_uniq_exam=0\n",
    "    cnt_of_uniq_exam=0\n",
    "    probs=[]\n",
    "    counts=[]\n",
    "    for i in uniq:\n",
    "        for j in range(0,len(col)):\n",
    "            if (i==col[j]):\n",
    "                cnt_of_uniq_exam+=1\n",
    "        probs.append(cnt_of_uniq_exam/len(col))\n",
    "        counts.append(cnt_of_uniq_exam)\n",
    "        cnt_of_uniq_exam=0\n",
    "    #############################        entropies of each example of that specific column\n",
    "    entropies=[]\n",
    "    yes_cnt=0\n",
    "    no_cnt=0\n",
    "    for i in range(0,len(uniq)):\n",
    "        yes_cnt=0\n",
    "        no_cnt=0\n",
    "        for j in range (0,len(col)):\n",
    "            if(uniq[i]==col[j]):\n",
    "                if(Y[j]=='Yes'):\n",
    "                    yes_cnt+=1\n",
    "                elif(Y[j]=='No'):\n",
    "                    no_cnt+=1\n",
    "#         print(uniq[i],'Yes :',yes_cnt,' No :',no_cnt,'total',counts[i],probs[i])\n",
    "        if(no_cnt==0):\n",
    "            entropy_of_uniq_exam=((yes_cnt/counts[i])*math.log2(yes_cnt/counts[i]))\n",
    "            entropy_of_uniq_exam=entropy_of_uniq_exam*-1\n",
    "            entropies.append(entropy_of_uniq_exam)\n",
    "        \n",
    "        elif(yes_cnt==0):\n",
    "            entropy_of_uniq_exam=((no_cnt/counts[i])*math.log2(no_cnt/counts[i]))\n",
    "            entropy_of_uniq_exam=entropy_of_uniq_exam*-1\n",
    "            entropies.append(entropy_of_uniq_exam)\n",
    "            \n",
    "        else:\n",
    "            \n",
    "            entropy_of_uniq_exam=(((yes_cnt/counts[i])*math.log2(yes_cnt/counts[i]))+((no_cnt/counts[i])*math.log2(no_cnt/counts[i])))\n",
    "            entropy_of_uniq_exam=entropy_of_uniq_exam*-1\n",
    "            entropies.append(entropy_of_uniq_exam)\n",
    "            \n",
    "#     print(entropies)\n",
    "    ############################################  Information gain calculation\n",
    "    temporary=0\n",
    "    for i in range(0,len(entropies)):\n",
    "            temporary=temporary+(probs[i]*entropies[i])\n",
    "    Information_gain=label_ent-temporary\n",
    "    return (Information_gain)      \n",
    "    "
   ]
  },
  {
   "cell_type": "code",
   "execution_count": 4,
   "id": "429c8b47",
   "metadata": {},
   "outputs": [],
   "source": [
    "def pred_class_ent(Y):\n",
    "    ###############################   Appending unique classs labels\n",
    "    unique_class=[]\n",
    "    for i in Y:\n",
    "        if not i in unique_class:\n",
    "            unique_class.append(i)\n",
    "    ##################################    calculating class label Entropy\n",
    "    lab_ent= 0\n",
    "    cnt=0\n",
    "    for i in unique_class:\n",
    "        cnt=0\n",
    "        for j in Y:\n",
    "            if (i==j):\n",
    "                cnt+=1\n",
    "        lab_ent=lab_ent+((cnt/len(Y))*(math.log2(cnt/len(Y))))\n",
    "    lab_ent=lab_ent*-1\n",
    "    return lab_ent"
   ]
  },
  {
   "cell_type": "code",
   "execution_count": 5,
   "id": "c6230add",
   "metadata": {},
   "outputs": [],
   "source": [
    "def Features_Infogain(X,Y,lab_ent):\n",
    "    #######################################       #### calculating information gain   ########\n",
    "    inf_gain=[]\n",
    "    \n",
    "    # Get the list of all column names from headers\n",
    "    column_list = list(X.columns.values)\n",
    "    j=0\n",
    "    for i in column_list:\n",
    "        inf_gain.append(Information_gain(X[i],Y ,lab_ent))\n",
    "        print('Information gain of ',i,' :',inf_gain[j])\n",
    "        j+=1\n",
    "    return (inf_gain)\n",
    "\n",
    "    "
   ]
  },
  {
   "cell_type": "code",
   "execution_count": 6,
   "id": "27868c28",
   "metadata": {},
   "outputs": [],
   "source": [
    "label=df.iloc[: , -1]     #  Selecting last column\n",
    "featu=df.iloc[: , :-1]    # Dropping last column"
   ]
  },
  {
   "cell_type": "code",
   "execution_count": 7,
   "id": "002d90e1",
   "metadata": {},
   "outputs": [],
   "source": [
    "ent=pred_class_ent(label)"
   ]
  },
  {
   "cell_type": "code",
   "execution_count": 8,
   "id": "53046fc7",
   "metadata": {},
   "outputs": [
    {
     "name": "stdout",
     "output_type": "stream",
     "text": [
      "Information gain of  outlook  : 0.24674981977443933\n",
      "Information gain of  temp  : 0.02922256565895487\n",
      "Information gain of  humidity  : 0.15183550136234159\n",
      "Information gain of  wind  : 0.04812703040826949\n"
     ]
    }
   ],
   "source": [
    "g=Features_Infogain(featu,label,ent)"
   ]
  },
  {
   "cell_type": "markdown",
   "id": "660f386a",
   "metadata": {},
   "source": [
    "### Root Node"
   ]
  },
  {
   "cell_type": "code",
   "execution_count": 9,
   "id": "b38a5f1c",
   "metadata": {},
   "outputs": [
    {
     "name": "stdout",
     "output_type": "stream",
     "text": [
      "root node will be  outlook  feature \n"
     ]
    }
   ],
   "source": [
    "column_list = list(df.columns.values)\n",
    "max_value = max(g)         # will return maximum probability value\n",
    "ind=g.index(max_value)\n",
    "print ('root node will be ',column_list[ind],' feature ')"
   ]
  },
  {
   "cell_type": "code",
   "execution_count": 10,
   "id": "d55690a0",
   "metadata": {},
   "outputs": [],
   "source": [
    "def columns_uniq(data,x):      # data= dataframe , x= column name\n",
    "    tmp=[]\n",
    "    for i in data[x].unique():\n",
    "        tmp.append(data[data[x]==i])\n",
    "    return(tmp)"
   ]
  },
  {
   "cell_type": "code",
   "execution_count": 11,
   "id": "c0471e2c",
   "metadata": {},
   "outputs": [],
   "source": [
    "F=columns_uniq(df,column_list[ind])\n",
    "sunny=F[0]\n",
    "overcast=F[1]\n",
    "rain=F[2]"
   ]
  },
  {
   "cell_type": "code",
   "execution_count": 12,
   "id": "dfe8414e",
   "metadata": {},
   "outputs": [
    {
     "data": {
      "text/html": [
       "<div>\n",
       "<style scoped>\n",
       "    .dataframe tbody tr th:only-of-type {\n",
       "        vertical-align: middle;\n",
       "    }\n",
       "\n",
       "    .dataframe tbody tr th {\n",
       "        vertical-align: top;\n",
       "    }\n",
       "\n",
       "    .dataframe thead th {\n",
       "        text-align: right;\n",
       "    }\n",
       "</style>\n",
       "<table border=\"1\" class=\"dataframe\">\n",
       "  <thead>\n",
       "    <tr style=\"text-align: right;\">\n",
       "      <th></th>\n",
       "      <th>outlook</th>\n",
       "      <th>temp</th>\n",
       "      <th>humidity</th>\n",
       "      <th>wind</th>\n",
       "      <th>play</th>\n",
       "    </tr>\n",
       "  </thead>\n",
       "  <tbody>\n",
       "    <tr>\n",
       "      <th>0</th>\n",
       "      <td>Sunny</td>\n",
       "      <td>Hot</td>\n",
       "      <td>High</td>\n",
       "      <td>Weak</td>\n",
       "      <td>No</td>\n",
       "    </tr>\n",
       "    <tr>\n",
       "      <th>1</th>\n",
       "      <td>Sunny</td>\n",
       "      <td>Hot</td>\n",
       "      <td>High</td>\n",
       "      <td>Strong</td>\n",
       "      <td>No</td>\n",
       "    </tr>\n",
       "    <tr>\n",
       "      <th>2</th>\n",
       "      <td>Sunny</td>\n",
       "      <td>Mild</td>\n",
       "      <td>High</td>\n",
       "      <td>Weak</td>\n",
       "      <td>No</td>\n",
       "    </tr>\n",
       "    <tr>\n",
       "      <th>3</th>\n",
       "      <td>Sunny</td>\n",
       "      <td>Cool</td>\n",
       "      <td>Normal</td>\n",
       "      <td>Weak</td>\n",
       "      <td>Yes</td>\n",
       "    </tr>\n",
       "    <tr>\n",
       "      <th>4</th>\n",
       "      <td>Sunny</td>\n",
       "      <td>Mild</td>\n",
       "      <td>Normal</td>\n",
       "      <td>Strong</td>\n",
       "      <td>Yes</td>\n",
       "    </tr>\n",
       "  </tbody>\n",
       "</table>\n",
       "</div>"
      ],
      "text/plain": [
       "  outlook  temp humidity    wind play\n",
       "0   Sunny   Hot     High    Weak   No\n",
       "1   Sunny   Hot     High  Strong   No\n",
       "2   Sunny  Mild     High    Weak   No\n",
       "3   Sunny  Cool   Normal    Weak  Yes\n",
       "4   Sunny  Mild   Normal  Strong  Yes"
      ]
     },
     "execution_count": 12,
     "metadata": {},
     "output_type": "execute_result"
    }
   ],
   "source": [
    "sunny=sunny.reset_index(drop=True)\n",
    "overcast=overcast.reset_index(drop=True)\n",
    "rain=rain.reset_index(drop=True)\n",
    "sunny"
   ]
  },
  {
   "cell_type": "code",
   "execution_count": null,
   "id": "9c8f7d53",
   "metadata": {},
   "outputs": [],
   "source": []
  },
  {
   "cell_type": "code",
   "execution_count": 13,
   "id": "a57e316b",
   "metadata": {},
   "outputs": [
    {
     "name": "stdout",
     "output_type": "stream",
     "text": [
      "Information gain of  temp  : 0.5709505944546686\n",
      "Information gain of  humidity  : 0.9709505944546686\n",
      "Information gain of  wind  : 0.01997309402197489\n"
     ]
    }
   ],
   "source": [
    "pl=sunny.iloc[: , -1]     #  Selecting last column\n",
    "ent1=pred_class_ent(pl)\n",
    "sunny.drop('outlook',inplace=True, axis=1)   # Will drop 1st column\n",
    "sunny=sunny.iloc[: , :-1]    # Dropping last column   # Will drop last column\n",
    "if(ent1==0):\n",
    "    print(ent1)\n",
    "else:\n",
    "    sun=Features_Infogain(sunny,pl,ent1)\n",
    "    \n",
    "#outlook==sunny, humidity==Normal  --------------------->play=Yes"
   ]
  },
  {
   "cell_type": "code",
   "execution_count": 14,
   "id": "74cbe17f",
   "metadata": {},
   "outputs": [
    {
     "data": {
      "text/html": [
       "<div>\n",
       "<style scoped>\n",
       "    .dataframe tbody tr th:only-of-type {\n",
       "        vertical-align: middle;\n",
       "    }\n",
       "\n",
       "    .dataframe tbody tr th {\n",
       "        vertical-align: top;\n",
       "    }\n",
       "\n",
       "    .dataframe thead th {\n",
       "        text-align: right;\n",
       "    }\n",
       "</style>\n",
       "<table border=\"1\" class=\"dataframe\">\n",
       "  <thead>\n",
       "    <tr style=\"text-align: right;\">\n",
       "      <th></th>\n",
       "      <th>outlook</th>\n",
       "      <th>temp</th>\n",
       "      <th>humidity</th>\n",
       "      <th>wind</th>\n",
       "      <th>play</th>\n",
       "    </tr>\n",
       "  </thead>\n",
       "  <tbody>\n",
       "    <tr>\n",
       "      <th>0</th>\n",
       "      <td>Overcast</td>\n",
       "      <td>Hot</td>\n",
       "      <td>High</td>\n",
       "      <td>Weak</td>\n",
       "      <td>Yes</td>\n",
       "    </tr>\n",
       "    <tr>\n",
       "      <th>1</th>\n",
       "      <td>Overcast</td>\n",
       "      <td>Cool</td>\n",
       "      <td>Normal</td>\n",
       "      <td>Strong</td>\n",
       "      <td>Yes</td>\n",
       "    </tr>\n",
       "    <tr>\n",
       "      <th>2</th>\n",
       "      <td>Overcast</td>\n",
       "      <td>Mild</td>\n",
       "      <td>High</td>\n",
       "      <td>Strong</td>\n",
       "      <td>Yes</td>\n",
       "    </tr>\n",
       "    <tr>\n",
       "      <th>3</th>\n",
       "      <td>Overcast</td>\n",
       "      <td>Hot</td>\n",
       "      <td>Normal</td>\n",
       "      <td>Weak</td>\n",
       "      <td>Yes</td>\n",
       "    </tr>\n",
       "  </tbody>\n",
       "</table>\n",
       "</div>"
      ],
      "text/plain": [
       "    outlook  temp humidity    wind play\n",
       "0  Overcast   Hot     High    Weak  Yes\n",
       "1  Overcast  Cool   Normal  Strong  Yes\n",
       "2  Overcast  Mild     High  Strong  Yes\n",
       "3  Overcast   Hot   Normal    Weak  Yes"
      ]
     },
     "execution_count": 14,
     "metadata": {},
     "output_type": "execute_result"
    }
   ],
   "source": [
    "overcast"
   ]
  },
  {
   "cell_type": "code",
   "execution_count": 15,
   "id": "1d3d2ddb",
   "metadata": {},
   "outputs": [
    {
     "name": "stdout",
     "output_type": "stream",
     "text": [
      "-0.0\n"
     ]
    }
   ],
   "source": [
    "pl=overcast.iloc[: , -1]     #  Selecting last column\n",
    "ent2=pred_class_ent(pl)\n",
    "overcast.drop('outlook',inplace=True, axis=1)   # Will drop 1st column\n",
    "overcast=overcast.iloc[: , :-1]    # Dropping last column   # Will drop last column\n",
    "if(ent2==0):\n",
    "    print(ent2)\n",
    "else:\n",
    "    sun=Features_Infogain(overcast,pl,ent2)\n",
    "# outlook==Overcast  --------------------->play=Yes"
   ]
  },
  {
   "cell_type": "code",
   "execution_count": 16,
   "id": "5b732560",
   "metadata": {},
   "outputs": [
    {
     "data": {
      "text/html": [
       "<div>\n",
       "<style scoped>\n",
       "    .dataframe tbody tr th:only-of-type {\n",
       "        vertical-align: middle;\n",
       "    }\n",
       "\n",
       "    .dataframe tbody tr th {\n",
       "        vertical-align: top;\n",
       "    }\n",
       "\n",
       "    .dataframe thead th {\n",
       "        text-align: right;\n",
       "    }\n",
       "</style>\n",
       "<table border=\"1\" class=\"dataframe\">\n",
       "  <thead>\n",
       "    <tr style=\"text-align: right;\">\n",
       "      <th></th>\n",
       "      <th>outlook</th>\n",
       "      <th>temp</th>\n",
       "      <th>humidity</th>\n",
       "      <th>wind</th>\n",
       "      <th>play</th>\n",
       "    </tr>\n",
       "  </thead>\n",
       "  <tbody>\n",
       "    <tr>\n",
       "      <th>0</th>\n",
       "      <td>Rain</td>\n",
       "      <td>Mild</td>\n",
       "      <td>High</td>\n",
       "      <td>Weak</td>\n",
       "      <td>Yes</td>\n",
       "    </tr>\n",
       "    <tr>\n",
       "      <th>1</th>\n",
       "      <td>Rain</td>\n",
       "      <td>Cool</td>\n",
       "      <td>Normal</td>\n",
       "      <td>Weak</td>\n",
       "      <td>Yes</td>\n",
       "    </tr>\n",
       "    <tr>\n",
       "      <th>2</th>\n",
       "      <td>Rain</td>\n",
       "      <td>Cool</td>\n",
       "      <td>Normal</td>\n",
       "      <td>Strong</td>\n",
       "      <td>No</td>\n",
       "    </tr>\n",
       "    <tr>\n",
       "      <th>3</th>\n",
       "      <td>Rain</td>\n",
       "      <td>Mild</td>\n",
       "      <td>Normal</td>\n",
       "      <td>Weak</td>\n",
       "      <td>Yes</td>\n",
       "    </tr>\n",
       "    <tr>\n",
       "      <th>4</th>\n",
       "      <td>Rain</td>\n",
       "      <td>Mild</td>\n",
       "      <td>High</td>\n",
       "      <td>Strong</td>\n",
       "      <td>No</td>\n",
       "    </tr>\n",
       "  </tbody>\n",
       "</table>\n",
       "</div>"
      ],
      "text/plain": [
       "  outlook  temp humidity    wind play\n",
       "0    Rain  Mild     High    Weak  Yes\n",
       "1    Rain  Cool   Normal    Weak  Yes\n",
       "2    Rain  Cool   Normal  Strong   No\n",
       "3    Rain  Mild   Normal    Weak  Yes\n",
       "4    Rain  Mild     High  Strong   No"
      ]
     },
     "execution_count": 16,
     "metadata": {},
     "output_type": "execute_result"
    }
   ],
   "source": [
    "rain"
   ]
  },
  {
   "cell_type": "code",
   "execution_count": 17,
   "id": "9d0d334c",
   "metadata": {},
   "outputs": [
    {
     "name": "stdout",
     "output_type": "stream",
     "text": [
      "Information gain of  temp  : 0.01997309402197489\n",
      "Information gain of  humidity  : 0.01997309402197489\n",
      "Information gain of  wind  : 0.9709505944546686\n"
     ]
    }
   ],
   "source": [
    "pl=rain.iloc[: , -1]     #  Selecting last column\n",
    "ent3=pred_class_ent(pl)\n",
    "rain.drop('outlook',inplace=True, axis=1)   # Will drop 1st column\n",
    "rain=rain.iloc[: , :-1]    # Dropping last column   # Will drop last column\n",
    "if(ent3==0):\n",
    "    print(ent3)\n",
    "else:\n",
    "    sun=Features_Infogain(rain,pl,ent3)\n",
    "#outlook==sunny, wind==Weak  --------------------->play=Yes"
   ]
  },
  {
   "cell_type": "code",
   "execution_count": 18,
   "id": "9bc49008",
   "metadata": {},
   "outputs": [],
   "source": [
    "def predict(array):\n",
    "    \n",
    "    if array[0]=='Overcast':\n",
    "        return 'Yes'\n",
    "    elif array[0]=='Sunny':\n",
    "        \n",
    "        if array[2]=='High':\n",
    "            return 'No'\n",
    "        elif array[2]=='Normal':\n",
    "            return 'Yes'\n",
    "    elif array[0]=='Rain':\n",
    "        if array[3]=='Weak':\n",
    "            return 'Yes'\n",
    "        elif array[3]=='Strong':\n",
    "            return 'No'"
   ]
  },
  {
   "cell_type": "code",
   "execution_count": 19,
   "id": "9a43c793",
   "metadata": {},
   "outputs": [
    {
     "data": {
      "text/plain": [
       "'Yes'"
      ]
     },
     "execution_count": 19,
     "metadata": {},
     "output_type": "execute_result"
    }
   ],
   "source": [
    "list1= ['Rain' , 'Cool' , 'High' , 'Weak']\n",
    "predict(list1)"
   ]
  },
  {
   "cell_type": "code",
   "execution_count": null,
   "id": "cf2de0c3",
   "metadata": {},
   "outputs": [],
   "source": []
  }
 ],
 "metadata": {
  "kernelspec": {
   "display_name": "Python 3",
   "language": "python",
   "name": "python3"
  },
  "language_info": {
   "codemirror_mode": {
    "name": "ipython",
    "version": 3
   },
   "file_extension": ".py",
   "mimetype": "text/x-python",
   "name": "python",
   "nbconvert_exporter": "python",
   "pygments_lexer": "ipython3",
   "version": "3.8.8"
  }
 },
 "nbformat": 4,
 "nbformat_minor": 5
}
