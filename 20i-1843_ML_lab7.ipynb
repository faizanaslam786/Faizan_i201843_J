{
 "cells": [
  {
   "cell_type": "markdown",
   "id": "9eb423f6",
   "metadata": {},
   "source": [
    "## 20i-1843_Faizan Aslam\n",
    "## Ai-J\n",
    "## Ml_lab-7"
   ]
  },
  {
   "cell_type": "code",
   "execution_count": 1,
   "id": "937a26d2",
   "metadata": {},
   "outputs": [],
   "source": [
    "import numpy as np\n",
    "import pandas as pd"
   ]
  },
  {
   "cell_type": "code",
   "execution_count": 2,
   "id": "eb94a388",
   "metadata": {},
   "outputs": [],
   "source": [
    "def unique_list(l):\n",
    "    vocab=[]              # unique words  return list\n",
    "    l=l.split()\n",
    "    for i in l:\n",
    "        if not i in vocab:\n",
    "            vocab.append(i)\n",
    "    return vocab\n",
    "\n",
    "# from collections import Counter       # unique words  return list\n",
    "\n",
    "# def unique_list(l):\n",
    "#     ulist = []\n",
    "#     [ulist.append(x) for x in l if x not in ulist]\n",
    "#     return ulist\n",
    "\n",
    "# a=' '.join(unique_list(posit.split()))"
   ]
  },
  {
   "cell_type": "code",
   "execution_count": 3,
   "id": "5a78eab8",
   "metadata": {},
   "outputs": [],
   "source": [
    "posit='I love mangoes Mangoes are a lot tastier than other fruits I like mangoes because they are good Apples are good too but I prefer mangoes People say mango is the king of fruit so that is why mangoes are good Mangoes are good because they are juicy'\n",
    "negat='Eating too many mangoes can have a negative impact on your health Mangoes are good but not too good I like apples more than mangoes I don’t like mangoes because they are expensive Mangoes are not good I don’t like mangoes'"
   ]
  },
  {
   "cell_type": "code",
   "execution_count": 4,
   "id": "80df81e9",
   "metadata": {},
   "outputs": [],
   "source": [
    "def naivebayes_train(class_sent,uniq):\n",
    "    \n",
    "    wrds=[]\n",
    "    probs=[]\n",
    "    for i in uniq:\n",
    "        tmp=1\n",
    "        for j in class_sent:\n",
    "            if(i==j):\n",
    "                tmp+=1\n",
    "        t=(tmp)/((len(class_sent))+(len(uniq)))\n",
    "        wrds.append(i)\n",
    "        probs.append(t)\n",
    "    return (wrds,probs)"
   ]
  },
  {
   "cell_type": "code",
   "execution_count": 5,
   "id": "fdb408f3",
   "metadata": {},
   "outputs": [],
   "source": [
    "\n",
    "def naivebayes_test(tocheck,class_sent,uniq):\n",
    "    \n",
    "    tocheck=tocheck.lower()          # check input class_sentence is +ve or -ve\n",
    "    tocheck=tocheck.split()\n",
    "    \n",
    "    class_sent=class_sent.lower()                # class of class_sentence +ve or -ve to which we compare\n",
    "    class_sent=class_sent.split()\n",
    "    \n",
    "    uniq=uniq.lower()                  # uniq combine vocab of +ve and -ve class \n",
    "    uniq=unique_list(uniq)\n",
    "\n",
    "    data=naivebayes_train(class_sent,uniq)  # This function will call naivebayes_training model which returns voacb words \n",
    "#                                             and their probabilities according to corps count.\n",
    "    \n",
    "    wrds=data[0]\n",
    "    probs=data[1]\n",
    "    \n",
    "    res=1\n",
    "    for i in range(0,len(tocheck)):\n",
    "        for j in range(0,len(wrds)):\n",
    "            if(tocheck[i]==wrds[j]):\n",
    "                res=res*probs[j]\n",
    "    return res"
   ]
  },
  {
   "cell_type": "code",
   "execution_count": 6,
   "id": "59aeb000",
   "metadata": {},
   "outputs": [
    {
     "name": "stdout",
     "output_type": "stream",
     "text": [
      "Please enter sentence :Apples are good too\n"
     ]
    }
   ],
   "source": [
    "sentence=input(\"Please enter sentence :\")"
   ]
  },
  {
   "cell_type": "code",
   "execution_count": 7,
   "id": "b78529f5",
   "metadata": {},
   "outputs": [],
   "source": [
    "pos=naivebayes_test(sentence,posit,(posit+\" \"+negat))\n",
    "pos=pos*6/11                       # 6 positive sent out of 11\n",
    "neg=naivebayes_test(sentence,negat,(posit+\" \"+negat))\n",
    "neg=neg*5/11     # 5 negative sentences out of 11\n"
   ]
  },
  {
   "cell_type": "code",
   "execution_count": 8,
   "id": "e286ec31",
   "metadata": {},
   "outputs": [
    {
     "name": "stdout",
     "output_type": "stream",
     "text": [
      "Positive sentence\n"
     ]
    }
   ],
   "source": [
    "if(pos>neg):\n",
    "    print('Positive sentence')\n",
    "else:\n",
    "    print('Negative sentence')"
   ]
  },
  {
   "cell_type": "markdown",
   "id": "67fd4671",
   "metadata": {},
   "source": [
    "# Lab completed"
   ]
  },
  {
   "cell_type": "code",
   "execution_count": null,
   "id": "72d7e427",
   "metadata": {},
   "outputs": [],
   "source": []
  }
 ],
 "metadata": {
  "kernelspec": {
   "display_name": "Python 3",
   "language": "python",
   "name": "python3"
  },
  "language_info": {
   "codemirror_mode": {
    "name": "ipython",
    "version": 3
   },
   "file_extension": ".py",
   "mimetype": "text/x-python",
   "name": "python",
   "nbconvert_exporter": "python",
   "pygments_lexer": "ipython3",
   "version": "3.8.8"
  }
 },
 "nbformat": 4,
 "nbformat_minor": 5
}
