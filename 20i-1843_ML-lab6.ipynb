{
 "cells": [
  {
   "cell_type": "code",
   "execution_count": 1,
   "id": "e68d5eed",
   "metadata": {},
   "outputs": [],
   "source": [
    "import numpy as np\n",
    "import pandas as pd"
   ]
  },
  {
   "cell_type": "markdown",
   "id": "461a929f",
   "metadata": {},
   "source": [
    "# Task1"
   ]
  },
  {
   "cell_type": "code",
   "execution_count": 2,
   "id": "6011397c",
   "metadata": {},
   "outputs": [
    {
     "data": {
      "text/html": [
       "<div>\n",
       "<style scoped>\n",
       "    .dataframe tbody tr th:only-of-type {\n",
       "        vertical-align: middle;\n",
       "    }\n",
       "\n",
       "    .dataframe tbody tr th {\n",
       "        vertical-align: top;\n",
       "    }\n",
       "\n",
       "    .dataframe thead th {\n",
       "        text-align: right;\n",
       "    }\n",
       "</style>\n",
       "<table border=\"1\" class=\"dataframe\">\n",
       "  <thead>\n",
       "    <tr style=\"text-align: right;\">\n",
       "      <th></th>\n",
       "      <th>day</th>\n",
       "      <th>outlook</th>\n",
       "      <th>temp</th>\n",
       "      <th>humidity</th>\n",
       "      <th>wind</th>\n",
       "      <th>play</th>\n",
       "    </tr>\n",
       "  </thead>\n",
       "  <tbody>\n",
       "    <tr>\n",
       "      <th>0</th>\n",
       "      <td>D1</td>\n",
       "      <td>Sunny</td>\n",
       "      <td>Hot</td>\n",
       "      <td>High</td>\n",
       "      <td>Weak</td>\n",
       "      <td>No</td>\n",
       "    </tr>\n",
       "    <tr>\n",
       "      <th>1</th>\n",
       "      <td>D2</td>\n",
       "      <td>Sunny</td>\n",
       "      <td>Hot</td>\n",
       "      <td>High</td>\n",
       "      <td>Strong</td>\n",
       "      <td>No</td>\n",
       "    </tr>\n",
       "    <tr>\n",
       "      <th>2</th>\n",
       "      <td>D3</td>\n",
       "      <td>Overcast</td>\n",
       "      <td>Hot</td>\n",
       "      <td>High</td>\n",
       "      <td>Weak</td>\n",
       "      <td>Yes</td>\n",
       "    </tr>\n",
       "    <tr>\n",
       "      <th>3</th>\n",
       "      <td>D4</td>\n",
       "      <td>Rain</td>\n",
       "      <td>Mild</td>\n",
       "      <td>High</td>\n",
       "      <td>Weak</td>\n",
       "      <td>Yes</td>\n",
       "    </tr>\n",
       "    <tr>\n",
       "      <th>4</th>\n",
       "      <td>D5</td>\n",
       "      <td>Rain</td>\n",
       "      <td>Cool</td>\n",
       "      <td>Normal</td>\n",
       "      <td>Weak</td>\n",
       "      <td>Yes</td>\n",
       "    </tr>\n",
       "    <tr>\n",
       "      <th>5</th>\n",
       "      <td>D6</td>\n",
       "      <td>Rain</td>\n",
       "      <td>Cool</td>\n",
       "      <td>Normal</td>\n",
       "      <td>Strong</td>\n",
       "      <td>No</td>\n",
       "    </tr>\n",
       "    <tr>\n",
       "      <th>6</th>\n",
       "      <td>D7</td>\n",
       "      <td>Overcast</td>\n",
       "      <td>Cool</td>\n",
       "      <td>Normal</td>\n",
       "      <td>Strong</td>\n",
       "      <td>Yes</td>\n",
       "    </tr>\n",
       "    <tr>\n",
       "      <th>7</th>\n",
       "      <td>D8</td>\n",
       "      <td>Sunny</td>\n",
       "      <td>Mild</td>\n",
       "      <td>High</td>\n",
       "      <td>Weak</td>\n",
       "      <td>No</td>\n",
       "    </tr>\n",
       "    <tr>\n",
       "      <th>8</th>\n",
       "      <td>D9</td>\n",
       "      <td>Sunny</td>\n",
       "      <td>Cool</td>\n",
       "      <td>Normal</td>\n",
       "      <td>Weak</td>\n",
       "      <td>Yes</td>\n",
       "    </tr>\n",
       "    <tr>\n",
       "      <th>9</th>\n",
       "      <td>D10</td>\n",
       "      <td>Rain</td>\n",
       "      <td>Mild</td>\n",
       "      <td>Normal</td>\n",
       "      <td>Weak</td>\n",
       "      <td>Yes</td>\n",
       "    </tr>\n",
       "    <tr>\n",
       "      <th>10</th>\n",
       "      <td>D11</td>\n",
       "      <td>Sunny</td>\n",
       "      <td>Mild</td>\n",
       "      <td>Normal</td>\n",
       "      <td>Strong</td>\n",
       "      <td>Yes</td>\n",
       "    </tr>\n",
       "    <tr>\n",
       "      <th>11</th>\n",
       "      <td>D12</td>\n",
       "      <td>Overcast</td>\n",
       "      <td>Mild</td>\n",
       "      <td>High</td>\n",
       "      <td>Strong</td>\n",
       "      <td>Yes</td>\n",
       "    </tr>\n",
       "    <tr>\n",
       "      <th>12</th>\n",
       "      <td>D13</td>\n",
       "      <td>Overcast</td>\n",
       "      <td>Hot</td>\n",
       "      <td>Normal</td>\n",
       "      <td>Weak</td>\n",
       "      <td>Yes</td>\n",
       "    </tr>\n",
       "    <tr>\n",
       "      <th>13</th>\n",
       "      <td>D14</td>\n",
       "      <td>Rain</td>\n",
       "      <td>Mild</td>\n",
       "      <td>High</td>\n",
       "      <td>Strong</td>\n",
       "      <td>No</td>\n",
       "    </tr>\n",
       "  </tbody>\n",
       "</table>\n",
       "</div>"
      ],
      "text/plain": [
       "    day   outlook  temp humidity    wind play\n",
       "0    D1     Sunny   Hot     High    Weak   No\n",
       "1    D2     Sunny   Hot     High  Strong   No\n",
       "2    D3  Overcast   Hot     High    Weak  Yes\n",
       "3    D4      Rain  Mild     High    Weak  Yes\n",
       "4    D5      Rain  Cool   Normal    Weak  Yes\n",
       "5    D6      Rain  Cool   Normal  Strong   No\n",
       "6    D7  Overcast  Cool   Normal  Strong  Yes\n",
       "7    D8     Sunny  Mild     High    Weak   No\n",
       "8    D9     Sunny  Cool   Normal    Weak  Yes\n",
       "9   D10      Rain  Mild   Normal    Weak  Yes\n",
       "10  D11     Sunny  Mild   Normal  Strong  Yes\n",
       "11  D12  Overcast  Mild     High  Strong  Yes\n",
       "12  D13  Overcast   Hot   Normal    Weak  Yes\n",
       "13  D14      Rain  Mild     High  Strong   No"
      ]
     },
     "execution_count": 2,
     "metadata": {},
     "output_type": "execute_result"
    }
   ],
   "source": [
    "df=pd.read_csv(f\"play_tennis.csv\")\n",
    "df"
   ]
  },
  {
   "cell_type": "code",
   "execution_count": 3,
   "id": "22692e84",
   "metadata": {},
   "outputs": [],
   "source": [
    "data=df"
   ]
  },
  {
   "cell_type": "code",
   "execution_count": 4,
   "id": "ffad3410",
   "metadata": {},
   "outputs": [],
   "source": [
    "def probability( dat , plays , out , tempr , humid, wind):\n",
    "    outlook_p1 = 0\n",
    "    temperature_p2 = 0\n",
    "    humidity_p3 = 0\n",
    "    wind_p4 = 0\n",
    "    plays_cnt=0\n",
    "    for i in range(0,len(dat['play'])):\n",
    "        \n",
    "        if (dat['play'][i] == plays):\n",
    "            plays_cnt+=1\n",
    "        if (dat['outlook'][i] == out and dat['play'][i] == plays):\n",
    "            outlook_p1+=1\n",
    "            \n",
    "        if (dat['temp'][i] == tempr and dat['play'][i] == plays):\n",
    "            temperature_p2+=1\n",
    "            \n",
    "        if (dat['humidity'][i] == humid and dat['play'][i] == plays):\n",
    "            humidity_p3+=1\n",
    "            \n",
    "        if (dat['wind'][i] == wind and dat['play'][i] == plays):\n",
    "            wind_p4+=1\n",
    "    \n",
    "    outlook_p1 = outlook_p1/plays_cnt\n",
    "    temperature_p2 = temperature_p2/plays_cnt\n",
    "    humidity_p3 = humidity_p3/plays_cnt\n",
    "    wind_p4 = wind_p4/plays_cnt\n",
    "    \n",
    "    plays_cnt=plays_cnt/len(dat['play'])\n",
    "    return (plays_cnt * outlook_p1 * temperature_p2 * humidity_p3 * wind_p4)"
   ]
  },
  {
   "cell_type": "code",
   "execution_count": 5,
   "id": "2ac478c3",
   "metadata": {},
   "outputs": [
    {
     "name": "stdout",
     "output_type": "stream",
     "text": [
      "Please enter outlook (note: Sunny, Overcast or Rain) :Sunny\n",
      "Please enter temperature (note: Hot, Mild or Cool) :Hot\n",
      "Please enter humidity (note: High or Normal ) :High\n",
      "Please enter wind (note: Weak, Strong ) :Weak\n"
     ]
    }
   ],
   "source": [
    "o=input(\"Please enter outlook (note: Sunny, Overcast or Rain) :\")\n",
    "t=input(\"Please enter temperature (note: Hot, Mild or Cool) :\")\n",
    "h=input(\"Please enter humidity (note: High or Normal ) :\")\n",
    "w=input(\"Please enter wind (note: Weak, Strong ) :\")"
   ]
  },
  {
   "cell_type": "code",
   "execution_count": 6,
   "id": "7b2e9bf7",
   "metadata": {},
   "outputs": [
    {
     "name": "stdout",
     "output_type": "stream",
     "text": [
      "\n",
      "Model answer : No.\n",
      "CSV actual answer : No\n"
     ]
    }
   ],
   "source": [
    "yes=probability( data , 'Yes',o , t , h, w)\n",
    "no=probability( data , 'No',o , t , h, w)\n",
    "print()\n",
    "if(yes>no):\n",
    "    print(\"Model answer : Yes.\")\n",
    "else:\n",
    "    print(\"Model answer : No.\")\n",
    "    \n",
    "\n",
    "for i in range(0,len(data)):\n",
    "    if((data['outlook'][i]== o) and (data['temp'][i]==t) and (data['humidity'][i]==h) and (data['wind'][i]==w)):\n",
    "        print('CSV actual answer :',data['play'][i])\n",
    "        break"
   ]
  },
  {
   "cell_type": "code",
   "execution_count": 7,
   "id": "0d65b93f",
   "metadata": {},
   "outputs": [
    {
     "name": "stdout",
     "output_type": "stream",
     "text": [
      "Accuracy of hand made Naive bayes model function is : 0.9285714285714286\n"
     ]
    }
   ],
   "source": [
    "model=[]\n",
    "for i in range(0,len(data)):\n",
    "    yes=probability( data , 'Yes',data['outlook'][i],data['temp'][i],data['humidity'][i],data['wind'][i])\n",
    "    no=probability( data , 'No',data['outlook'][i],data['temp'][i],data['humidity'][i],data['wind'][i])\n",
    "    if(yes>no):\n",
    "        model.append('Yes')\n",
    "    else:\n",
    "        model.append('No')\n",
    "cnt=0\n",
    "for j in range(0,len(data)):\n",
    "    if(model[j]==data['play'][j]):\n",
    "        cnt+=1\n",
    "print(\"Accuracy of hand made Naive bayes model function is :\",cnt/len(data))"
   ]
  },
  {
   "cell_type": "markdown",
   "id": "f92d9028",
   "metadata": {},
   "source": [
    "# Task2  through Naive bayes"
   ]
  },
  {
   "cell_type": "code",
   "execution_count": 8,
   "id": "b7c3f22c",
   "metadata": {},
   "outputs": [],
   "source": [
    "posit='I love mangoes Mangoes are a lot tastier than other fruits I like mangoes because they are good Apples are good too but I prefer mangoes People say mango is the king of fruit so that is why mangoes are good Mangoes are good because they are juicy'\n",
    "negat='Eating too many mangoes can have a negative impact on your health Mangoes are good but not too good I like apples more than mangoes I don’t like mangoes because they are expensiveMangoes are not good I don’t like mangoes'\n",
    "\n",
    "def naivebayes(tocheck,sent):\n",
    "    tocheck=tocheck.lower()\n",
    "    tocheck=tocheck.split()\n",
    "    \n",
    "    sent=sent.lower()\n",
    "    sent=sent.split()\n",
    "    \n",
    "    wrd_cnt=0\n",
    "    for cnt in sent:\n",
    "        wrd_cnt+=1\n",
    "            \n",
    "    res=1\n",
    "    \n",
    "    for i in tocheck:\n",
    "        tmp=0\n",
    "        for j in sent:\n",
    "            if(i==j):\n",
    "                tmp+=1\n",
    "#         print(i)\n",
    "        if(tmp>0):\n",
    "            res=res*(tmp/wrd_cnt)\n",
    "#             print(res)\n",
    "        else:\n",
    "            res=res*0.001\n",
    "#             print(res)\n",
    "    return res\n",
    "\n"
   ]
  },
  {
   "cell_type": "code",
   "execution_count": 9,
   "id": "4718f23a",
   "metadata": {},
   "outputs": [
    {
     "name": "stdout",
     "output_type": "stream",
     "text": [
      "Please enter sentence :i lovE mangOes\n"
     ]
    }
   ],
   "source": [
    "sentence=input(\"Please enter sentence :\")"
   ]
  },
  {
   "cell_type": "code",
   "execution_count": 10,
   "id": "021377d4",
   "metadata": {},
   "outputs": [],
   "source": [
    "pos=naivebayes(sentence,posit)\n",
    "pos=pos*6/11                       # 6 positive sent out of 11\n",
    "neg=naivebayes(sentence,negat)\n",
    "neg=neg*5/11                        # 5 negative sentences out of 11"
   ]
  },
  {
   "cell_type": "code",
   "execution_count": 11,
   "id": "8c976338",
   "metadata": {},
   "outputs": [
    {
     "name": "stdout",
     "output_type": "stream",
     "text": [
      "Positive sentence\n"
     ]
    }
   ],
   "source": [
    "if(pos>neg):\n",
    "    print('Positive sentence')\n",
    "else:\n",
    "    print('Negative sentence')"
   ]
  },
  {
   "cell_type": "markdown",
   "id": "a665897d",
   "metadata": {},
   "source": [
    "# Task2 through Bayes"
   ]
  },
  {
   "cell_type": "code",
   "execution_count": 12,
   "id": "77883d74",
   "metadata": {},
   "outputs": [],
   "source": [
    "def bayes(tocheck,sent):\n",
    "    tocheck=tocheck.lower()\n",
    "    tocheck=tocheck.split()\n",
    "    \n",
    "    sent=sent.lower()\n",
    "    sent=sent.split()\n",
    "    \n",
    "    wrd_cnt=0\n",
    "    for cnt in sent:\n",
    "        wrd_cnt+=1\n",
    "############################################################################         \n",
    "    res=1\n",
    "    if(wrd_cnt==3 or wrd_cnt==4):                               # sing word by single word\n",
    "        for i in tocheck:\n",
    "            tmp=0\n",
    "            for j in sent:\n",
    "                if(i==j):\n",
    "                    tmp+=1\n",
    "\n",
    "            if(tmp>0):\n",
    "                res=res*(tmp/wrd_cnt)\n",
    "\n",
    "            else:\n",
    "                res=res*0.0001\n",
    "############################################################################      \n",
    "        for i in range(0,len(tocheck)-1):\n",
    "            tmp=0                                        # double words by double wors\n",
    "            for j in range(0,len(sent)-1):\n",
    "                if(tocheck[i]==sent[j] and tocheck[i+1]==sent[j+1]):\n",
    "                    tmp+=1\n",
    "\n",
    "            if(tmp>0):\n",
    "                res=res*(tmp/wrd_cnt)\n",
    "\n",
    "            else:\n",
    "                res=res*0.0001\n",
    "############################################################################     \n",
    "        for i in range(0,len(tocheck)-2):\n",
    "            tmp=0\n",
    "            for j in range(0,len(sent)-2):                       # tripple words by tripple words\n",
    "                \n",
    "                if(tocheck[i]==sent[j] and tocheck[i+1]==sent[j+1] and tocheck[i+2]==sent[j+2]):\n",
    "                    tmp+=1\n",
    "\n",
    "            if(tmp>0):\n",
    "                res=res+(tmp/wrd_cnt)\n",
    "\n",
    "            else:\n",
    "                res=res*0.0001\n",
    "################################################################################           \n",
    "        if(cnt_wrd>3):\n",
    "            for i in range(0,len(tocheck)-2):\n",
    "                tmp=0\n",
    "                for j in range(0,len(sent)-2):                       # more quard words by quad words\n",
    "                    if(tocheck[i]==sent[j] and tocheck[i+1]==sent[j+1] and tocheck[i+1]==sent[j+1] and tocheck[i+3]==sent[j+3]):\n",
    "                        tmp+=1\n",
    "                        \n",
    "                if(tmp>0):\n",
    "                    res=res*(tmp/wrd_cnt)\n",
    "                else:\n",
    "                    res=re*+0.0001\n",
    "\n",
    "    return res"
   ]
  },
  {
   "cell_type": "code",
   "execution_count": 13,
   "id": "236150d5",
   "metadata": {},
   "outputs": [],
   "source": [
    "pos=bayes(sentence,posit)\n",
    "pos=pos*6/11                       # 6 positive sent out of 11\n",
    "neg=bayes(sentence,negat)\n",
    "neg=neg*5/11                        # 5 negative sentences out of 11"
   ]
  },
  {
   "cell_type": "code",
   "execution_count": 14,
   "id": "94ffb07e",
   "metadata": {},
   "outputs": [
    {
     "name": "stdout",
     "output_type": "stream",
     "text": [
      "Positive sentence\n"
     ]
    }
   ],
   "source": [
    "if(pos>neg):\n",
    "    print('Positive sentence')\n",
    "else:\n",
    "    print('Negative sentence')"
   ]
  },
  {
   "cell_type": "markdown",
   "id": "825adfaa",
   "metadata": {},
   "source": [
    "# Lab 6 tasks completed"
   ]
  },
  {
   "cell_type": "code",
   "execution_count": null,
   "id": "b8b5439c",
   "metadata": {},
   "outputs": [],
   "source": []
  }
 ],
 "metadata": {
  "kernelspec": {
   "display_name": "Python 3",
   "language": "python",
   "name": "python3"
  },
  "language_info": {
   "codemirror_mode": {
    "name": "ipython",
    "version": 3
   },
   "file_extension": ".py",
   "mimetype": "text/x-python",
   "name": "python",
   "nbconvert_exporter": "python",
   "pygments_lexer": "ipython3",
   "version": "3.8.8"
  }
 },
 "nbformat": 4,
 "nbformat_minor": 5
}
