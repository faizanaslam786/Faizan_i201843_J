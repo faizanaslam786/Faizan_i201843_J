{
 "cells": [
  {
   "cell_type": "markdown",
   "id": "3f89730d",
   "metadata": {},
   "source": [
    "# Creating vitual environment"
   ]
  },
  {
   "cell_type": "code",
   "execution_count": 1,
   "id": "95cca1ab",
   "metadata": {},
   "outputs": [
    {
     "name": "stdout",
     "output_type": "stream",
     "text": [
      "3.8.8\n",
      "Python virtual version 3.8 is created\n"
     ]
    }
   ],
   "source": [
    "from platform import python_version\n",
    "print(python_version())\n",
    "print(\"Python virtual version 3.8 is created\")"
   ]
  },
  {
   "cell_type": "code",
   "execution_count": 2,
   "id": "90ecba6e",
   "metadata": {},
   "outputs": [
    {
     "name": "stdout",
     "output_type": "stream",
     "text": [
      "pip 21.2.4 from /home/labuser/anaconda3/lib/python3.9/site-packages/pip (python 3.8)\n"
     ]
    }
   ],
   "source": [
    "!python3 -m pip --version"
   ]
  },
  {
   "cell_type": "markdown",
   "id": "e52f9977",
   "metadata": {},
   "source": [
    "# Tasks"
   ]
  },
  {
   "cell_type": "code",
   "execution_count": 3,
   "id": "baf9540c",
   "metadata": {},
   "outputs": [],
   "source": [
    "# pip install pandas"
   ]
  },
  {
   "cell_type": "markdown",
   "id": "31e0558d",
   "metadata": {},
   "source": [
    "# Task-1\n",
    "## Parent class "
   ]
  },
  {
   "cell_type": "code",
   "execution_count": 4,
   "id": "bae64325",
   "metadata": {},
   "outputs": [],
   "source": [
    "class bike:\n",
    "#     _name# Protected variable\n",
    "#     __location # Private variable\n",
    "    chassic_no=2881\n",
    "    def __init__(self,name,model):\n",
    "        self.name=name\n",
    "        self.model=model\n",
    "    def display(self):\n",
    "#         print(\"The name of university is \",self.name +\" The location  is \",self.location)\n",
    "        print(f\"The name of bike company is {self.name} Bike model is {self.model}\")\n",
    "        "
   ]
  },
  {
   "cell_type": "code",
   "execution_count": 5,
   "id": "db3dfd7b",
   "metadata": {},
   "outputs": [
    {
     "name": "stdout",
     "output_type": "stream",
     "text": [
      "The name of bike company is Honda Bike model is 2019\n"
     ]
    }
   ],
   "source": [
    "obj1=bike(\"Honda\",\"2019\")\n",
    "obj1.display()"
   ]
  },
  {
   "cell_type": "markdown",
   "id": "907bc4c9",
   "metadata": {},
   "source": [
    "## Child class"
   ]
  },
  {
   "cell_type": "code",
   "execution_count": 6,
   "id": "98de49a5",
   "metadata": {},
   "outputs": [],
   "source": [
    "class detail(bike):\n",
    "    def __init__(self,model_name,price,u_name,u_model):\n",
    "        bike.__init__(self, u_name,u_model)\n",
    "        self.model_name=model_name\n",
    "        self.price=price\n",
    "    def displayy(self):\n",
    "#         print(\"The name of university is \",self.name +\" The location  is \",self.location)\n",
    "        print(f\"The name of bike company is {self.name} ,Bike model is {self.model}\")\n",
    "        print(f\"Bike model name is {self.model_name} ,Its price is {self.price}\")"
   ]
  },
  {
   "cell_type": "code",
   "execution_count": 7,
   "id": "622a97f2",
   "metadata": {},
   "outputs": [
    {
     "name": "stdout",
     "output_type": "stream",
     "text": [
      "The name of bike company is Honda Bike model is 2019\n",
      "\n",
      "\n",
      "The name of bike company is Honda ,Bike model is 2019\n",
      "Bike model name is cd 70 ,Its price is 70000\n"
     ]
    }
   ],
   "source": [
    "obj2=detail(\"cd 70\",70000,\"Honda\",\"2019\")\n",
    "obj2.display()\n",
    "print(\"\\n\")\n",
    "obj2.displayy()"
   ]
  },
  {
   "cell_type": "markdown",
   "id": "5c8751bb",
   "metadata": {},
   "source": [
    "# Task2"
   ]
  },
  {
   "cell_type": "code",
   "execution_count": 8,
   "id": "49825071",
   "metadata": {},
   "outputs": [],
   "source": [
    "list1=['Main Abdul qadir hoon','Aks','Daagh','Mery pas tum ho','Mera yaqeen','Pardes','Qaid-e-tanhai','Raahein','Meri zaat zare-e-be nishamn']"
   ]
  },
  {
   "cell_type": "code",
   "execution_count": 9,
   "id": "b7f5d477",
   "metadata": {},
   "outputs": [
    {
     "name": "stdout",
     "output_type": "stream",
     "text": [
      "1 Main Abdul qadir hoon\n",
      "2 Aks\n",
      "3 Daagh\n",
      "4 Mery pas tum ho\n",
      "5 Mera yaqeen\n",
      "6 Pardes\n",
      "7 Qaid-e-tanhai\n",
      "8 Raahein\n",
      "9 Meri zaat zare-e-be nishamn\n"
     ]
    }
   ],
   "source": [
    "for i,value in enumerate(list1,1):\n",
    "    print(i,value)"
   ]
  },
  {
   "cell_type": "markdown",
   "id": "b41e2df6",
   "metadata": {},
   "source": [
    "# Task3_1"
   ]
  },
  {
   "cell_type": "code",
   "execution_count": 10,
   "id": "59c6e180",
   "metadata": {},
   "outputs": [
    {
     "name": "stdout",
     "output_type": "stream",
     "text": [
      "no of words with length greater than equal to 2 and with same first and last letters are : 4\n"
     ]
    }
   ],
   "source": [
    "def task3_1(list2):\n",
    "    count=0\n",
    "    for i in list2:\n",
    "        if(len(i)>=2):\n",
    "            if(i[0]==i[-1]):\n",
    "                count+=1\n",
    "    return count\n",
    "\n",
    "\n",
    "list2_1={'moha',\"tit\",\"blast\",'peace','daad','flood',\"k\",\"pip\",\"klash\",\"p\",\"mom\"}\n",
    "\n",
    "\n",
    "cnt=task3_1(list2_1)\n",
    "print(\"no of words with length greater than equal to 2 and with same first and last letters are :\",cnt)"
   ]
  },
  {
   "cell_type": "markdown",
   "id": "9d0ecbfb",
   "metadata": {},
   "source": [
    "# Task3_2"
   ]
  },
  {
   "cell_type": "code",
   "execution_count": 11,
   "id": "083d3dd9",
   "metadata": {},
   "outputs": [
    {
     "name": "stdout",
     "output_type": "stream",
     "text": [
      "Sorted order excluding words with 1st letter x:- \n",
      " ['humanity', 'mankind', 'painful', 'response', 'sad', 'sympathy', 'xylophone', 'xray', 'xtreme']\n"
     ]
    }
   ],
   "source": [
    "list3=['xylophone','mankind','xray','humanity','sympathy','sad','xtreme','painful','response']\n",
    "tmp=[]\n",
    "for i,value in enumerate(list3):\n",
    "    if(value[0]=='x'):\n",
    "        tmp.append(value)\n",
    "        list3.pop(i)\n",
    "list3.sort()\n",
    "for i in tmp:\n",
    "    list3.append(i)\n",
    "\n",
    "print(\"Sorted order excluding words with 1st letter x:- \\n\", list3)"
   ]
  },
  {
   "cell_type": "markdown",
   "id": "adc526c9",
   "metadata": {},
   "source": [
    "# Task3_3"
   ]
  },
  {
   "cell_type": "code",
   "execution_count": 12,
   "id": "311d32bf",
   "metadata": {},
   "outputs": [
    {
     "name": "stdout",
     "output_type": "stream",
     "text": [
      "Tuple Before sortion on last key basis [(2, 5), (1, 2), (4, 4), (2, 3), (2, 1)]\n",
      "Tuple After sortion on last key basis [(2, 1), (1, 2), (2, 3), (4, 4), (2, 5)]\n"
     ]
    }
   ],
   "source": [
    "# def last(n):\n",
    "#     return n[-1]\n",
    "list4=([(2, 5), (1, 2), (4, 4), (2, 3), (2, 1)])\n",
    "print(\"Tuple Before sortion on last key basis\",list4)\n",
    "list5=sorted(list4, key=lambda list4:list4 [-1])\n",
    "print(\"Tuple After sortion on last key basis\",list5)"
   ]
  },
  {
   "cell_type": "markdown",
   "id": "6be57f9f",
   "metadata": {},
   "source": [
    "## Task3_4"
   ]
  },
  {
   "cell_type": "code",
   "execution_count": 13,
   "id": "b5c86ff1",
   "metadata": {},
   "outputs": [
    {
     "name": "stdout",
     "output_type": "stream",
     "text": [
      "Before removing adjacent elements [1, 2, 3, 3, 3, 4, 4, 5, 6, 88, 88, 44, 55, 55, 34, 34, 34, 34, 34, 55, 55, 4, 55, 55]\n",
      "After removing adjacent elements [1, 2, 3, 4, 5, 6, 88, 44, 55, 34, 55, 4, 55]\n"
     ]
    }
   ],
   "source": [
    "list5=[1,2,3,3,3,4,4,5,6,88,88,44,55,55,34,34,34,34,34,55,55,4,55,55]\n",
    "answer=[]\n",
    "print(\"Before removing adjacent elements\",list5)\n",
    "ran=len(list5)\n",
    "for i in range(0,len(list5)-1):\n",
    "    if(list5[i]!=list5[i+1]):\n",
    "        answer.append(list5[i])\n",
    "        \n",
    "answer.append(list5[i+1])\n",
    "print(\"After removing adjacent elements\",answer)"
   ]
  },
  {
   "cell_type": "markdown",
   "id": "7533a6d6",
   "metadata": {},
   "source": [
    "# Task3_5"
   ]
  },
  {
   "cell_type": "code",
   "execution_count": 14,
   "id": "f82077e9",
   "metadata": {},
   "outputs": [
    {
     "name": "stdout",
     "output_type": "stream",
     "text": [
      "Sorted result of two merged array [1, 2, 3, 4, 5, 6, 7, 8, 9, 11, 12, 13, 14, 15, 16, 17, 18, 19]\n"
     ]
    }
   ],
   "source": [
    "list6=[1,4,3,9,2,6,5,8,7]\n",
    "list7=[15,12,11,18,13,16,17,19,14]\n",
    "\n",
    "list6=list6+list7\n",
    "list6.sort()\n",
    "print(\"Sorted result of two merged array\",list6)"
   ]
  },
  {
   "cell_type": "markdown",
   "id": "1e12fb97",
   "metadata": {},
   "source": [
    "# Task4 "
   ]
  },
  {
   "cell_type": "code",
   "execution_count": 15,
   "id": "53e4ea66",
   "metadata": {},
   "outputs": [],
   "source": [
    "import numpy as np\n",
    "import pandas as pd\n",
    "import matplotlib.pyplot as plt\n",
    "import random"
   ]
  },
  {
   "cell_type": "code",
   "execution_count": 16,
   "id": "729d12c9",
   "metadata": {},
   "outputs": [
    {
     "data": {
      "text/html": [
       "<div>\n",
       "<style scoped>\n",
       "    .dataframe tbody tr th:only-of-type {\n",
       "        vertical-align: middle;\n",
       "    }\n",
       "\n",
       "    .dataframe tbody tr th {\n",
       "        vertical-align: top;\n",
       "    }\n",
       "\n",
       "    .dataframe thead th {\n",
       "        text-align: right;\n",
       "    }\n",
       "</style>\n",
       "<table border=\"1\" class=\"dataframe\">\n",
       "  <thead>\n",
       "    <tr style=\"text-align: right;\">\n",
       "      <th></th>\n",
       "      <th>country</th>\n",
       "      <th>beer_servings</th>\n",
       "      <th>spirit_servings</th>\n",
       "      <th>wine_servings</th>\n",
       "      <th>total_litres_of_pure_alcohol</th>\n",
       "      <th>continent</th>\n",
       "    </tr>\n",
       "  </thead>\n",
       "  <tbody>\n",
       "    <tr>\n",
       "      <th>0</th>\n",
       "      <td>Afghanistan</td>\n",
       "      <td>0</td>\n",
       "      <td>0</td>\n",
       "      <td>0</td>\n",
       "      <td>0.0</td>\n",
       "      <td>AS</td>\n",
       "    </tr>\n",
       "    <tr>\n",
       "      <th>1</th>\n",
       "      <td>Albania</td>\n",
       "      <td>89</td>\n",
       "      <td>132</td>\n",
       "      <td>54</td>\n",
       "      <td>4.9</td>\n",
       "      <td>EU</td>\n",
       "    </tr>\n",
       "    <tr>\n",
       "      <th>2</th>\n",
       "      <td>Algeria</td>\n",
       "      <td>25</td>\n",
       "      <td>0</td>\n",
       "      <td>14</td>\n",
       "      <td>0.7</td>\n",
       "      <td>AF</td>\n",
       "    </tr>\n",
       "    <tr>\n",
       "      <th>3</th>\n",
       "      <td>Andorra</td>\n",
       "      <td>245</td>\n",
       "      <td>138</td>\n",
       "      <td>312</td>\n",
       "      <td>12.4</td>\n",
       "      <td>EU</td>\n",
       "    </tr>\n",
       "    <tr>\n",
       "      <th>4</th>\n",
       "      <td>Angola</td>\n",
       "      <td>217</td>\n",
       "      <td>57</td>\n",
       "      <td>45</td>\n",
       "      <td>5.9</td>\n",
       "      <td>AF</td>\n",
       "    </tr>\n",
       "    <tr>\n",
       "      <th>...</th>\n",
       "      <td>...</td>\n",
       "      <td>...</td>\n",
       "      <td>...</td>\n",
       "      <td>...</td>\n",
       "      <td>...</td>\n",
       "      <td>...</td>\n",
       "    </tr>\n",
       "    <tr>\n",
       "      <th>188</th>\n",
       "      <td>Venezuela</td>\n",
       "      <td>333</td>\n",
       "      <td>100</td>\n",
       "      <td>3</td>\n",
       "      <td>7.7</td>\n",
       "      <td>SA</td>\n",
       "    </tr>\n",
       "    <tr>\n",
       "      <th>189</th>\n",
       "      <td>Vietnam</td>\n",
       "      <td>111</td>\n",
       "      <td>2</td>\n",
       "      <td>1</td>\n",
       "      <td>2.0</td>\n",
       "      <td>AS</td>\n",
       "    </tr>\n",
       "    <tr>\n",
       "      <th>190</th>\n",
       "      <td>Yemen</td>\n",
       "      <td>6</td>\n",
       "      <td>0</td>\n",
       "      <td>0</td>\n",
       "      <td>0.1</td>\n",
       "      <td>AS</td>\n",
       "    </tr>\n",
       "    <tr>\n",
       "      <th>191</th>\n",
       "      <td>Zambia</td>\n",
       "      <td>32</td>\n",
       "      <td>19</td>\n",
       "      <td>4</td>\n",
       "      <td>2.5</td>\n",
       "      <td>AF</td>\n",
       "    </tr>\n",
       "    <tr>\n",
       "      <th>192</th>\n",
       "      <td>Zimbabwe</td>\n",
       "      <td>64</td>\n",
       "      <td>18</td>\n",
       "      <td>4</td>\n",
       "      <td>4.7</td>\n",
       "      <td>AF</td>\n",
       "    </tr>\n",
       "  </tbody>\n",
       "</table>\n",
       "<p>193 rows × 6 columns</p>\n",
       "</div>"
      ],
      "text/plain": [
       "         country  beer_servings  spirit_servings  wine_servings  \\\n",
       "0    Afghanistan              0                0              0   \n",
       "1        Albania             89              132             54   \n",
       "2        Algeria             25                0             14   \n",
       "3        Andorra            245              138            312   \n",
       "4         Angola            217               57             45   \n",
       "..           ...            ...              ...            ...   \n",
       "188    Venezuela            333              100              3   \n",
       "189      Vietnam            111                2              1   \n",
       "190        Yemen              6                0              0   \n",
       "191       Zambia             32               19              4   \n",
       "192     Zimbabwe             64               18              4   \n",
       "\n",
       "     total_litres_of_pure_alcohol continent  \n",
       "0                             0.0        AS  \n",
       "1                             4.9        EU  \n",
       "2                             0.7        AF  \n",
       "3                            12.4        EU  \n",
       "4                             5.9        AF  \n",
       "..                            ...       ...  \n",
       "188                           7.7        SA  \n",
       "189                           2.0        AS  \n",
       "190                           0.1        AS  \n",
       "191                           2.5        AF  \n",
       "192                           4.7        AF  \n",
       "\n",
       "[193 rows x 6 columns]"
      ]
     },
     "execution_count": 16,
     "metadata": {},
     "output_type": "execute_result"
    }
   ],
   "source": [
    "df=pd.read_csv(f'drinks.csv')\n",
    "df"
   ]
  },
  {
   "cell_type": "markdown",
   "id": "26e965e5",
   "metadata": {},
   "source": [
    "## Task4-i"
   ]
  },
  {
   "cell_type": "code",
   "execution_count": 17,
   "id": "efb41df0",
   "metadata": {},
   "outputs": [
    {
     "name": "stdout",
     "output_type": "stream",
     "text": [
      "no of rows in drinks csv files are : 193\n"
     ]
    }
   ],
   "source": [
    "print(\"no of rows in drinks csv files are :\",len(df))"
   ]
  },
  {
   "cell_type": "markdown",
   "id": "a3de2e7f",
   "metadata": {},
   "source": [
    "# Task4-ii"
   ]
  },
  {
   "cell_type": "code",
   "execution_count": 18,
   "id": "320b271d",
   "metadata": {},
   "outputs": [
    {
     "name": "stdout",
     "output_type": "stream",
     "text": [
      "After dropping nan values :-\n"
     ]
    },
    {
     "data": {
      "text/html": [
       "<div>\n",
       "<style scoped>\n",
       "    .dataframe tbody tr th:only-of-type {\n",
       "        vertical-align: middle;\n",
       "    }\n",
       "\n",
       "    .dataframe tbody tr th {\n",
       "        vertical-align: top;\n",
       "    }\n",
       "\n",
       "    .dataframe thead th {\n",
       "        text-align: right;\n",
       "    }\n",
       "</style>\n",
       "<table border=\"1\" class=\"dataframe\">\n",
       "  <thead>\n",
       "    <tr style=\"text-align: right;\">\n",
       "      <th></th>\n",
       "      <th>country</th>\n",
       "      <th>beer_servings</th>\n",
       "      <th>spirit_servings</th>\n",
       "      <th>wine_servings</th>\n",
       "      <th>total_litres_of_pure_alcohol</th>\n",
       "      <th>continent</th>\n",
       "    </tr>\n",
       "  </thead>\n",
       "  <tbody>\n",
       "    <tr>\n",
       "      <th>0</th>\n",
       "      <td>Afghanistan</td>\n",
       "      <td>0</td>\n",
       "      <td>0</td>\n",
       "      <td>0</td>\n",
       "      <td>0.0</td>\n",
       "      <td>AS</td>\n",
       "    </tr>\n",
       "    <tr>\n",
       "      <th>1</th>\n",
       "      <td>Albania</td>\n",
       "      <td>89</td>\n",
       "      <td>132</td>\n",
       "      <td>54</td>\n",
       "      <td>4.9</td>\n",
       "      <td>EU</td>\n",
       "    </tr>\n",
       "    <tr>\n",
       "      <th>2</th>\n",
       "      <td>Algeria</td>\n",
       "      <td>25</td>\n",
       "      <td>0</td>\n",
       "      <td>14</td>\n",
       "      <td>0.7</td>\n",
       "      <td>AF</td>\n",
       "    </tr>\n",
       "    <tr>\n",
       "      <th>3</th>\n",
       "      <td>Andorra</td>\n",
       "      <td>245</td>\n",
       "      <td>138</td>\n",
       "      <td>312</td>\n",
       "      <td>12.4</td>\n",
       "      <td>EU</td>\n",
       "    </tr>\n",
       "    <tr>\n",
       "      <th>4</th>\n",
       "      <td>Angola</td>\n",
       "      <td>217</td>\n",
       "      <td>57</td>\n",
       "      <td>45</td>\n",
       "      <td>5.9</td>\n",
       "      <td>AF</td>\n",
       "    </tr>\n",
       "    <tr>\n",
       "      <th>...</th>\n",
       "      <td>...</td>\n",
       "      <td>...</td>\n",
       "      <td>...</td>\n",
       "      <td>...</td>\n",
       "      <td>...</td>\n",
       "      <td>...</td>\n",
       "    </tr>\n",
       "    <tr>\n",
       "      <th>165</th>\n",
       "      <td>Venezuela</td>\n",
       "      <td>333</td>\n",
       "      <td>100</td>\n",
       "      <td>3</td>\n",
       "      <td>7.7</td>\n",
       "      <td>SA</td>\n",
       "    </tr>\n",
       "    <tr>\n",
       "      <th>166</th>\n",
       "      <td>Vietnam</td>\n",
       "      <td>111</td>\n",
       "      <td>2</td>\n",
       "      <td>1</td>\n",
       "      <td>2.0</td>\n",
       "      <td>AS</td>\n",
       "    </tr>\n",
       "    <tr>\n",
       "      <th>167</th>\n",
       "      <td>Yemen</td>\n",
       "      <td>6</td>\n",
       "      <td>0</td>\n",
       "      <td>0</td>\n",
       "      <td>0.1</td>\n",
       "      <td>AS</td>\n",
       "    </tr>\n",
       "    <tr>\n",
       "      <th>168</th>\n",
       "      <td>Zambia</td>\n",
       "      <td>32</td>\n",
       "      <td>19</td>\n",
       "      <td>4</td>\n",
       "      <td>2.5</td>\n",
       "      <td>AF</td>\n",
       "    </tr>\n",
       "    <tr>\n",
       "      <th>169</th>\n",
       "      <td>Zimbabwe</td>\n",
       "      <td>64</td>\n",
       "      <td>18</td>\n",
       "      <td>4</td>\n",
       "      <td>4.7</td>\n",
       "      <td>AF</td>\n",
       "    </tr>\n",
       "  </tbody>\n",
       "</table>\n",
       "<p>170 rows × 6 columns</p>\n",
       "</div>"
      ],
      "text/plain": [
       "         country  beer_servings  spirit_servings  wine_servings  \\\n",
       "0    Afghanistan              0                0              0   \n",
       "1        Albania             89              132             54   \n",
       "2        Algeria             25                0             14   \n",
       "3        Andorra            245              138            312   \n",
       "4         Angola            217               57             45   \n",
       "..           ...            ...              ...            ...   \n",
       "165    Venezuela            333              100              3   \n",
       "166      Vietnam            111                2              1   \n",
       "167        Yemen              6                0              0   \n",
       "168       Zambia             32               19              4   \n",
       "169     Zimbabwe             64               18              4   \n",
       "\n",
       "     total_litres_of_pure_alcohol continent  \n",
       "0                             0.0        AS  \n",
       "1                             4.9        EU  \n",
       "2                             0.7        AF  \n",
       "3                            12.4        EU  \n",
       "4                             5.9        AF  \n",
       "..                            ...       ...  \n",
       "165                           7.7        SA  \n",
       "166                           2.0        AS  \n",
       "167                           0.1        AS  \n",
       "168                           2.5        AF  \n",
       "169                           4.7        AF  \n",
       "\n",
       "[170 rows x 6 columns]"
      ]
     },
     "execution_count": 18,
     "metadata": {},
     "output_type": "execute_result"
    }
   ],
   "source": [
    "df=df.dropna().reset_index(drop=True)  # df=df.dropna(axis=0)   <---- index will not be renamed\n",
    "print('After dropping nan values :-')\n",
    "df"
   ]
  },
  {
   "cell_type": "markdown",
   "id": "598bf578",
   "metadata": {},
   "source": [
    "# Task4-iii"
   ]
  },
  {
   "cell_type": "code",
   "execution_count": 19,
   "id": "8aba66d9",
   "metadata": {},
   "outputs": [
    {
     "name": "stdout",
     "output_type": "stream",
     "text": [
      "Please enter column name whose data you want to see :continent\n",
      "0      AS\n",
      "1      EU\n",
      "2      AF\n",
      "3      EU\n",
      "4      AF\n",
      "       ..\n",
      "165    SA\n",
      "166    AS\n",
      "167    AS\n",
      "168    AF\n",
      "169    AF\n",
      "Name: continent, Length: 170, dtype: object\n"
     ]
    }
   ],
   "source": [
    "def colu(nam):\n",
    "    print (df[nam])\n",
    "    \n",
    "name=input('Please enter column name whose data you want to see :')\n",
    "colu(name)"
   ]
  },
  {
   "cell_type": "markdown",
   "id": "db4774f3",
   "metadata": {},
   "source": [
    "# Task4-iv"
   ]
  },
  {
   "cell_type": "code",
   "execution_count": 20,
   "id": "536827ef",
   "metadata": {},
   "outputs": [
    {
     "data": {
      "image/png": "[encoded data removed]",
      "text/plain": [
       "<Figure size 432x288 with 1 Axes>"
      ]
     },
     "metadata": {
      "needs_background": "light"
     },
     "output_type": "display_data"
    }
   ],
   "source": [
    "plt.hist(df['continent'])\n",
    "\n",
    "plt.title(\"Spirits consuming in different continents\")\n",
    "plt.xlabel(\"Continents\")\n",
    "plt.ylabel(\"Quantity\")\n",
    "plt.show()"
   ]
  },
  {
   "cell_type": "markdown",
   "id": "076b4f14",
   "metadata": {},
   "source": [
    "# Task4-v"
   ]
  },
  {
   "cell_type": "code",
   "execution_count": 21,
   "id": "6faf3d11",
   "metadata": {},
   "outputs": [
    {
     "data": {
      "text/plain": [
       "<AxesSubplot:xlabel='beer_servings', ylabel='wine_servings'>"
      ]
     },
     "execution_count": 21,
     "metadata": {},
     "output_type": "execute_result"
    },
    {
     "data": {
      "image/png": "[encoded data removed]",
      "text/plain": [
       "<Figure size 432x288 with 1 Axes>"
      ]
     },
     "metadata": {
      "needs_background": "light"
     },
     "output_type": "display_data"
    }
   ],
   "source": [
    "dict = {'beer_servings': df['beer_servings'], 'wine_servings': df['wine_servings']} \n",
    "df2=pd.DataFrame(dict)\n",
    "import seaborn as sns\n",
    "sns.scatterplot(x=\"beer_servings\", y=\"wine_servings\", data=df2)"
   ]
  },
  {
   "cell_type": "code",
   "execution_count": 22,
   "id": "a0bc8cb5",
   "metadata": {},
   "outputs": [
    {
     "data": {
      "image/png": "[encoded data removed]",
      "text/plain": [
       "<Figure size 1152x648 with 2 Axes>"
      ]
     },
     "metadata": {
      "needs_background": "light"
     },
     "output_type": "display_data"
    }
   ],
   "source": [
    "# Import libraries\n",
    "from mpl_toolkits import mplot3d\n",
    "import numpy as np\n",
    "import matplotlib.pyplot as plt\n",
    "\n",
    "\n",
    "# Creating dataset\n",
    "z = df['beer_servings']\n",
    "x = df['wine_servings']\n",
    "y = df['spirit_servings']\n",
    "\n",
    "# Creating figure\n",
    "fig = plt.figure(figsize = (16, 9))\n",
    "ax = plt.axes(projection =\"3d\")\n",
    "\n",
    "# Add x, y gridlines\n",
    "ax.grid(b = True, color ='grey',linestyle ='-.', linewidth = 0.3,alpha = 0.2)\n",
    "\n",
    "\n",
    "# Creating color map\n",
    "my_cmap = plt.get_cmap('hsv')\n",
    "\n",
    "# Creating plot\n",
    "sctt = ax.scatter3D(x, y, z,alpha = 0.8,c = (x + y + z),cmap = my_cmap,marker ='^')\n",
    "\n",
    "plt.title(\"simple 3D scatter plot\")\n",
    "ax.set_xlabel('Wine', fontweight ='bold')\n",
    "ax.set_ylabel('Beer', fontweight ='bold')\n",
    "ax.set_zlabel('Spirit', fontweight ='bold')\n",
    "fig.colorbar(sctt, ax = ax, shrink = 0.5, aspect = 5)\n",
    "\n",
    "# show plot\n",
    "plt.show()\n"
   ]
  },
  {
   "cell_type": "markdown",
   "id": "1c726cfe",
   "metadata": {},
   "source": [
    "# Task-vi"
   ]
  },
  {
   "cell_type": "code",
   "execution_count": 23,
   "id": "592384f0",
   "metadata": {},
   "outputs": [
    {
     "data": {
      "text/plain": [
       "<BarContainer object of 170 artists>"
      ]
     },
     "execution_count": 23,
     "metadata": {},
     "output_type": "execute_result"
    },
    {
     "data": {
      "image/png": "[encoded data removed]",
      "text/plain": [
       "<Figure size 432x288 with 1 Axes>"
      ]
     },
     "metadata": {
      "needs_background": "light"
     },
     "output_type": "display_data"
    }
   ],
   "source": [
    "continents = df['continent']\n",
    "servings = df['wine_servings']\n",
    "\n",
    "plt.barh(continents,servings)"
   ]
  },
  {
   "cell_type": "code",
   "execution_count": 24,
   "id": "9c5ab12d",
   "metadata": {},
   "outputs": [
    {
     "data": {
      "text/plain": [
       "([<matplotlib.patches.Wedge at 0x23b81289fa0>,\n",
       "  <matplotlib.patches.Wedge at 0x23b812946d0>,\n",
       "  <matplotlib.patches.Wedge at 0x23b81294d60>,\n",
       "  <matplotlib.patches.Wedge at 0x23b812a1430>,\n",
       "  <matplotlib.patches.Wedge at 0x23b812a1ac0>],\n",
       " [Text(1.3982260275164262, 0.6454176755990142, 'AS'),\n",
       "  Text(0.4852449484426079, 1.4615530575421924, 'EU'),\n",
       "  Text(-1.3838283096977195, 0.6757360500070663, 'AF'),\n",
       "  Text(-0.7519949463043515, -1.3439135391581989, 'SA'),\n",
       "  Text(1.0630413929751215, -1.1142454831954731, 'OC')],\n",
       " [Text(0.7626687422816869, 0.3520460048721895, '13.77%'),\n",
       "  Text(0.26467906278687703, 0.7972107586593776, '12.27%'),\n",
       "  Text(-0.7548154416533015, 0.3685833000038543, '33.48%'),\n",
       "  Text(-0.4101790616205553, -0.7330437486317448, '14.74%'),\n",
       "  Text(0.5798407598046117, -0.6077702635611671, '25.75%')])"
      ]
     },
     "execution_count": 24,
     "metadata": {},
     "output_type": "execute_result"
    },
    {
     "data": {
      "image/png": "[encoded data removed]",
      "text/plain": [
       "<Figure size 432x288 with 1 Axes>"
      ]
     },
     "metadata": {},
     "output_type": "display_data"
    }
   ],
   "source": [
    "df1 = df.groupby(['continent', 'total_litres_of_pure_alcohol']).sum().reset_index().groupby('continent').mean()\n",
    "class1_students = df1['total_litres_of_pure_alcohol']\n",
    "classes = df['continent'].unique()\n",
    "# explode = [0.03,0,0.1,0,0]\n",
    "colors = [\"c\", 'b','r','y','g']\n",
    "# textprops = {\"fontsize\":15}\n",
    "\n",
    "plt.pie(class1_students, \n",
    "        labels = classes, \n",
    "#         explode = explode, \n",
    "        colors =colors, \n",
    "        autopct = \"%0.2f%%\", \n",
    "#         shadow = True, \n",
    "        radius = 1.4,\n",
    "#          startangle = 270, \n",
    "                           )"
   ]
  },
  {
   "cell_type": "markdown",
   "id": "064e1fe8",
   "metadata": {},
   "source": [
    "# Task vii"
   ]
  },
  {
   "cell_type": "code",
   "execution_count": 25,
   "id": "a7dd6b1e",
   "metadata": {},
   "outputs": [
    {
     "data": {
      "text/plain": [
       "<BarContainer object of 170 artists>"
      ]
     },
     "execution_count": 25,
     "metadata": {},
     "output_type": "execute_result"
    },
    {
     "data": {
      "image/png": "[encoded data removed]",
      "text/plain": [
       "<Figure size 432x288 with 1 Axes>"
      ]
     },
     "metadata": {
      "needs_background": "light"
     },
     "output_type": "display_data"
    }
   ],
   "source": [
    "continents = df['continent']\n",
    "servings = df['spirit_servings']\n",
    "\n",
    "plt.bar(continents,servings)"
   ]
  },
  {
   "cell_type": "markdown",
   "id": "c4a1c4e7",
   "metadata": {},
   "source": [
    "## END "
   ]
  },
  {
   "cell_type": "code",
   "execution_count": null,
   "id": "f9365c01",
   "metadata": {},
   "outputs": [],
   "source": []
  }
 ],
 "metadata": {
  "kernelspec": {
   "display_name": "Python 3",
   "language": "python",
   "name": "python3"
  },
  "language_info": {
   "codemirror_mode": {
    "name": "ipython",
    "version": 3
   },
   "file_extension": ".py",
   "mimetype": "text/x-python",
   "name": "python",
   "nbconvert_exporter": "python",
   "pygments_lexer": "ipython3",
   "version": "3.8.8"
  }
 },
 "nbformat": 4,
 "nbformat_minor": 5
}
